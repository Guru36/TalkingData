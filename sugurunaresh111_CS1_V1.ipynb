{
 "cells": [
  {
   "cell_type": "markdown",
   "metadata": {
    "id": "SnsPWPBexnxQ"
   },
   "source": [
    "#Libraries"
   ]
  },
  {
   "cell_type": "code",
   "execution_count": null,
   "metadata": {
    "colab": {
     "base_uri": "https://localhost:8080/"
    },
    "id": "WOjffvUOPMwf",
    "outputId": "12d53a25-9309-4bc0-8941-eed3ac34bc11"
   },
   "outputs": [
    {
     "name": "stdout",
     "output_type": "stream",
     "text": [
      "Collecting catboost\n",
      "\u001b[?25l  Downloading https://files.pythonhosted.org/packages/47/80/8e9c57ec32dfed6ba2922bc5c96462cbf8596ce1a6f5de532ad1e43e53fe/catboost-0.25.1-cp37-none-manylinux1_x86_64.whl (67.3MB)\n",
      "\u001b[K     |████████████████████████████████| 67.3MB 53kB/s \n",
      "\u001b[?25hRequirement already satisfied: plotly in /usr/local/lib/python3.7/dist-packages (from catboost) (4.4.1)\n",
      "Requirement already satisfied: pandas>=0.24.0 in /usr/local/lib/python3.7/dist-packages (from catboost) (1.1.5)\n",
      "Requirement already satisfied: six in /usr/local/lib/python3.7/dist-packages (from catboost) (1.15.0)\n",
      "Requirement already satisfied: matplotlib in /usr/local/lib/python3.7/dist-packages (from catboost) (3.2.2)\n",
      "Requirement already satisfied: scipy in /usr/local/lib/python3.7/dist-packages (from catboost) (1.4.1)\n",
      "Requirement already satisfied: graphviz in /usr/local/lib/python3.7/dist-packages (from catboost) (0.10.1)\n",
      "Requirement already satisfied: numpy>=1.16.0 in /usr/local/lib/python3.7/dist-packages (from catboost) (1.19.5)\n",
      "Requirement already satisfied: retrying>=1.3.3 in /usr/local/lib/python3.7/dist-packages (from plotly->catboost) (1.3.3)\n",
      "Requirement already satisfied: python-dateutil>=2.7.3 in /usr/local/lib/python3.7/dist-packages (from pandas>=0.24.0->catboost) (2.8.1)\n",
      "Requirement already satisfied: pytz>=2017.2 in /usr/local/lib/python3.7/dist-packages (from pandas>=0.24.0->catboost) (2018.9)\n",
      "Requirement already satisfied: pyparsing!=2.0.4,!=2.1.2,!=2.1.6,>=2.0.1 in /usr/local/lib/python3.7/dist-packages (from matplotlib->catboost) (2.4.7)\n",
      "Requirement already satisfied: kiwisolver>=1.0.1 in /usr/local/lib/python3.7/dist-packages (from matplotlib->catboost) (1.3.1)\n",
      "Requirement already satisfied: cycler>=0.10 in /usr/local/lib/python3.7/dist-packages (from matplotlib->catboost) (0.10.0)\n",
      "Installing collected packages: catboost\n",
      "Successfully installed catboost-0.25.1\n",
      "Requirement already satisfied: lightgbm in /usr/local/lib/python3.7/dist-packages (2.2.3)\n",
      "Requirement already satisfied: numpy in /usr/local/lib/python3.7/dist-packages (from lightgbm) (1.19.5)\n",
      "Requirement already satisfied: scikit-learn in /usr/local/lib/python3.7/dist-packages (from lightgbm) (0.22.2.post1)\n",
      "Requirement already satisfied: scipy in /usr/local/lib/python3.7/dist-packages (from lightgbm) (1.4.1)\n",
      "Requirement already satisfied: joblib>=0.11 in /usr/local/lib/python3.7/dist-packages (from scikit-learn->lightgbm) (1.0.1)\n"
     ]
    }
   ],
   "source": [
    "import warnings\n",
    "warnings.filterwarnings(\"ignore\")\n",
    "import pandas as pd\n",
    "import numpy as np\n",
    "!pip install catboost\n",
    "import catboost\n",
    "from catboost import CatBoostClassifier\n",
    "from sklearn.naive_bayes import MultinomialNB\n",
    "from sklearn.tree import DecisionTreeClassifier\n",
    "!pip install lightgbm\n",
    "import lightgbm\n",
    "%matplotlib inline\n",
    "import seaborn as sns\n",
    "from tqdm import tqdm\n",
    "import matplotlib.pyplot as plt\n",
    "import os\n",
    "from sklearn.preprocessing import LabelEncoder\n",
    "from sklearn.metrics import confusion_matrix\n",
    "from sklearn.metrics.classification import log_loss\n",
    "from sklearn.feature_extraction.text import TfidfVectorizer\n",
    "from sklearn.feature_extraction.text import CountVectorizer\n",
    "from collections import Counter\n",
    "from sklearn.model_selection import StratifiedKFold\n",
    "from scipy.sparse import hstack\n",
    "from scipy.sparse import csr_matrix\n",
    "warnings.filterwarnings(\"ignore\")\n",
    "from datetime import datetime\n",
    "from sklearn.model_selection import train_test_split\n",
    "from sklearn.linear_model import LogisticRegression\n",
    "from sklearn.ensemble import RandomForestClassifier\n",
    "from sklearn.calibration import CalibratedClassifierCV\n",
    "from xgboost import XGBClassifier\n",
    "from sklearn.preprocessing import StandardScaler\n",
    "from keras.models import Sequential\n",
    "from keras.layers import Dense, Dropout, Activation, BatchNormalization,Input,PReLU\n",
    "from keras.utils import np_utils\n",
    "from keras.optimizers import Adam\n",
    "from keras.models import Model\n",
    "from keras.optimizers import Adagrad"
   ]
  },
  {
   "cell_type": "code",
   "execution_count": null,
   "metadata": {
    "colab": {
     "base_uri": "https://localhost:8080/"
    },
    "id": "LKpRlSO_Pcyj",
    "outputId": "a1f6023a-384d-439b-b778-7ba4f8a6a614"
   },
   "outputs": [
    {
     "name": "stdout",
     "output_type": "stream",
     "text": [
      "Mounted at /content/drive\n"
     ]
    }
   ],
   "source": [
    " from google.colab import drive\n",
    "drive.mount('/content/drive')"
   ]
  },
  {
   "cell_type": "markdown",
   "metadata": {
    "id": "eqHMUH5FJTJ3"
   },
   "source": [
    "REFERENCE:\n",
    "\n",
    "https://www.kaggle.com/c/talkingdata-mobile-user-demographics/discussion/23424\n",
    "\n",
    "https://www.kaggle.com/dvasyukova/a-linear-model-on-apps-and-labels\n",
    "\n",
    "https://github.com/chechir/talking_data"
   ]
  },
  {
   "cell_type": "markdown",
   "metadata": {
    "id": "5tUWtfK3zm4S"
   },
   "source": [
    "#**Preprocessing:**"
   ]
  },
  {
   "cell_type": "code",
   "execution_count": null,
   "metadata": {
    "colab": {
     "base_uri": "https://localhost:8080/"
    },
    "id": "hoT5d8op7q1Y",
    "outputId": "f112ced2-18a6-4749-aca2-a42c13146882"
   },
   "outputs": [
    {
     "name": "stdout",
     "output_type": "stream",
     "text": [
      "All Data features irrespective of events: train shape: (74645, 1798) test shape: (112071, 1798)\n",
      "Data with Noevents features: train shape: (51336, 1798) test shape: (76877, 1798)\n",
      "Data with Events features: train shape: (23309, 21554) test shape: (35194, 21554)\n"
     ]
    }
   ],
   "source": [
    "datadir = '/content/drive/MyDrive/Talkingdata_CS1/talkingdata-mobile-user-demographics/data/'\n",
    "gender_age_train = pd.read_csv(os.path.join(datadir,'gender_age_train.csv'),index_col='device_id')\n",
    "gender_age_test = pd.read_csv(os.path.join(datadir,'gender_age_test.csv'),index_col = 'device_id')\n",
    "phone_brand_device_model = pd.read_csv(os.path.join(datadir,'phone_brand_device_model.csv'))\n",
    "#removing duplicates in phone_brand_device_model\n",
    "phone_brand_device_model = phone_brand_device_model.drop_duplicates('device_id',keep='first').set_index('device_id')\n",
    "events_data = pd.read_csv(os.path.join(datadir,'events.csv'),parse_dates=['timestamp'], index_col='event_id')\n",
    "apps_events_data = pd.read_csv(os.path.join(datadir,'app_events.csv'), usecols=['event_id','app_id','is_active'],dtype={'is_active':bool})\n",
    "apps_label_data = pd.read_csv(os.path.join(datadir,'app_labels.csv'))\n",
    "#print('Features for all the data irrespective of events')\n",
    "#BOW for Phone Brand:\n",
    "gender_age_test['testrow'] = np.arange(gender_age_test.shape[0])\n",
    "gender_age_train['trainrow'] = np.arange(gender_age_train.shape[0])     \n",
    "from sklearn.preprocessing import LabelEncoder\n",
    "y_encoder=LabelEncoder().fit(gender_age_train.group)\n",
    "Ytrain_all =y_encoder.transform(gender_age_train.group)\n",
    "\n",
    "#ref:https://www.kaggle.com/dvasyukova/a-linear-model-on-apps-and-labels\n",
    "from sklearn.preprocessing import LabelEncoder\n",
    "from scipy.sparse import csr_matrix, hstack\n",
    "brand_encoder = LabelEncoder().fit(phone_brand_device_model.phone_brand)\n",
    "phone_brand_device_model['brand'] = brand_encoder.transform(phone_brand_device_model['phone_brand'])\n",
    "gender_age_test['brand'] = phone_brand_device_model['brand']\n",
    "gender_age_train['brand'] = phone_brand_device_model['brand']\n",
    "gender_age_test['brand']=gender_age_test['brand'].astype(int) \n",
    "gender_age_train['brand']=gender_age_train['brand'].astype(int) \n",
    "Xtr_brand = csr_matrix((np.ones(gender_age_train.shape[0]),(gender_age_train.trainrow, gender_age_train.brand)))\n",
    "Xte_brand = csr_matrix((np.ones(gender_age_test.shape[0]),(gender_age_test.testrow, gender_age_test.brand)))\n",
    "#print('Phone_Brand features train:',Xtr_brand.shape, 'test shape:' ,Xte_brand.shape)\n",
    "\n",
    "#BOW for Phone Model\n",
    "model_brand = phone_brand_device_model.phone_brand.str.cat(phone_brand_device_model.device_model)\n",
    "modelencoder = LabelEncoder().fit(model_brand)\n",
    "phone_brand_device_model['model'] = modelencoder.transform(model_brand)\n",
    "gender_age_train['model'] = phone_brand_device_model['model']\n",
    "gender_age_test['model'] = phone_brand_device_model['model']\n",
    "Xtr_model = csr_matrix((np.ones(gender_age_train.shape[0]), (gender_age_train.trainrow, gender_age_train.model)))\n",
    "Xte_model = csr_matrix((np.ones(gender_age_test.shape[0]), (gender_age_test.testrow, gender_age_test.model)))\n",
    "\n",
    "#TRAIN AND TEST FOR ALL DATA\n",
    "Xtrain_all = hstack((Xtr_brand, Xtr_model), format='csr')\n",
    "Xtest_all =  hstack((Xte_brand, Xte_model), format='csr')\n",
    "print('All Data features irrespective of events: train shape:',Xtrain_all.shape, 'test shape:' ,Xtest_all.shape)\n",
    "\n",
    "\n",
    "#Splitting the data into data with events and data without events and extracting features from it\n",
    "#Reloading Train & Test data and splitting them to data with and without events\n",
    "gender_age_train = pd.read_csv(os.path.join(datadir,'gender_age_train.csv'))\n",
    "gender_age_test = pd.read_csv(os.path.join(datadir,'gender_age_test.csv'))\n",
    "device_id_has_events=events_data.device_id.unique() \n",
    "gender_age_train['has_events']=gender_age_train.device_id.apply(lambda x:1 if x in device_id_has_events else 0)  \n",
    "gender_age_test['has_events']=gender_age_test.device_id.apply(lambda x:1 if x in device_id_has_events else 0)  \n",
    "\n",
    "\n",
    "gatrain_has_events=gender_age_train.loc[gender_age_train['has_events']==1].drop(['age','gender','has_events'],axis=1).set_index('device_id')\n",
    "gatrain_has_noevents=gender_age_train.loc[gender_age_train['has_events']==0].drop(['age','gender','has_events'],axis=1).set_index('device_id')\n",
    "gatest_has_events=gender_age_test.loc[gender_age_test['has_events']==1].drop(['has_events'],axis=1).set_index('device_id')\n",
    "gatest_has_noevents=gender_age_test.loc[gender_age_test['has_events']==0].drop(['has_events'],axis=1).set_index('device_id')\n",
    "gender_age_train=gender_age_train.set_index('device_id')\n",
    "gender_age_test=gender_age_test.set_index('device_id')\n",
    "\n",
    "gender_age_train['trainrow']=np.arange(gender_age_train.shape[0])\n",
    "gender_age_test['testrow']=np.arange(gender_age_test.shape[0])\n",
    "gatrain_has_events['trainrow']=np.arange(gatrain_has_events.shape[0])\n",
    "gatest_has_events['testrow']=np.arange(gatest_has_events.shape[0])\n",
    "gatrain_has_noevents['trainrow']=np.arange(gatrain_has_noevents.shape[0])\n",
    "gatest_has_noevents['testrow']=np.arange(gatest_has_noevents.shape[0])\n",
    "\n",
    "y_encoder_ev=LabelEncoder().fit(gatrain_has_events.group)\n",
    "Ytrain_events =y_encoder_ev.transform(gatrain_has_events.group)\n",
    "\n",
    "y_encoder_noev=LabelEncoder().fit(gatrain_has_noevents.group)\n",
    "Ytrain_noevents =y_encoder_noev.transform(gatrain_has_noevents.group)\n",
    "\n",
    "\n",
    "#BOW of Brands\n",
    "brand_encoder = LabelEncoder().fit(phone_brand_device_model['phone_brand'])\n",
    "phone_brand_device_model['brand'] = brand_encoder.transform(phone_brand_device_model['phone_brand'])\n",
    "nbrands=len(brand_encoder.classes_)\n",
    "#BOW of Models\n",
    "model_brand = phone_brand_device_model['phone_brand'].str.cat(phone_brand_device_model['device_model'])\n",
    "model_encoder=LabelEncoder().fit(model_brand)\n",
    "phone_brand_device_model['model_brand']=model_encoder.transform(model_brand)\n",
    "nmodels=len(model_encoder.classes_)\n",
    "\n",
    "\n",
    "#Features for  events\n",
    "gatrain_has_noevents['phone_brand']=phone_brand_device_model['brand']\n",
    "gatest_has_noevents['phone_brand']=phone_brand_device_model['brand']\n",
    "Xtr_brand = csr_matrix((np.ones(gatrain_has_noevents.shape[0]), (gatrain_has_noevents.trainrow, gatrain_has_noevents.phone_brand)), shape=(gatrain_has_noevents.shape[0],nbrands))\n",
    "Xte_brand = csr_matrix((np.ones(gatest_has_noevents.shape[0]), (gatest_has_noevents.testrow, gatest_has_noevents.phone_brand)), shape=(gatest_has_noevents.shape[0],nbrands))\n",
    "#print('Phone Model features: train shape:',Xtr_brand.shape, 'test shape:' ,Xte_brand.shape)\n",
    "\n",
    "gatrain_has_noevents['phone_model']=phone_brand_device_model['model_brand']\n",
    "gatest_has_noevents['phone_model']=phone_brand_device_model['model_brand']\n",
    "Xtr_model = csr_matrix((np.ones(gatrain_has_noevents.shape[0]), (gatrain_has_noevents.trainrow, gatrain_has_noevents.phone_model)), shape=(gatrain_has_noevents.shape[0],nmodels))\n",
    "Xte_model = csr_matrix((np.ones(gatest_has_noevents.shape[0]), (gatest_has_noevents.testrow, gatest_has_noevents.phone_model)), shape=(gatest_has_noevents.shape[0],nmodels))\n",
    "#print('Phone Model features: train shape:',Xtr_model.shape, 'test shape:' ,Xte_model.shape)\n",
    "\n",
    "Xtrain_noevents = hstack((Xtr_brand, Xtr_model), format='csr')\n",
    "Xtest_noevents =  hstack((Xte_brand, Xte_model), format='csr')\n",
    "print('Data with Noevents features: train shape:',Xtrain_noevents.shape, 'test shape:' ,Xtest_noevents.shape)\n",
    "\n",
    "#Features for Data with events\n",
    "\n",
    "#BOW for brands\n",
    "gatrain_has_events['phone_brand']=phone_brand_device_model['brand']\n",
    "gatest_has_events['phone_brand']=phone_brand_device_model['brand']\n",
    "Xtr_brand= csr_matrix((np.ones(gatrain_has_events.shape[0]), (gatrain_has_events.trainrow, gatrain_has_events.phone_brand)), shape=(gatrain_has_events.shape[0],nbrands))\n",
    "Xte_brand = csr_matrix((np.ones(gatest_has_events.shape[0]), (gatest_has_events.testrow, gatest_has_events.phone_brand)), shape=(gatest_has_events.shape[0],nbrands))\n",
    "#print('Phone Model features: train shape:',Xtr_brand.shape, 'test shape:' ,Xte_brand.shape)\n",
    "\n",
    "#BOW for models\n",
    "gatrain_has_events['phone_model']=phone_brand_device_model['model_brand']\n",
    "gatest_has_events['phone_model']=phone_brand_device_model['model_brand']\n",
    "Xtr_model = csr_matrix((np.ones(gatrain_has_events.shape[0]), (gatrain_has_events.trainrow, gatrain_has_events.phone_model)), shape=(gatrain_has_events.shape[0],nmodels))\n",
    "Xte_model = csr_matrix((np.ones(gatest_has_events.shape[0]), (gatest_has_events.testrow, gatest_has_events.phone_model)), shape=(gatest_has_events.shape[0],nmodels))\n",
    "#print('Phone Model features: train shape:',Xtr_model.shape, 'test shape:' ,Xte_model.shape)\n",
    "\n",
    "#BOW for Apps\n",
    "app_encoder = LabelEncoder().fit(apps_events_data['app_id'])\n",
    "apps_events_data['app'] = app_encoder.transform(apps_events_data['app_id'])\n",
    "napps = len(app_encoder.classes_)\n",
    "device_apps = (apps_events_data.merge(events_data[['device_id']], how='left',left_on='event_id',right_index=True)\n",
    "                    .groupby(['device_id','app'])['app'].agg(['size'])\n",
    "                    .merge(gatrain_has_events[['trainrow']], how='left', left_index=True, right_index=True)\n",
    "                    .merge(gatest_has_events[['testrow']], how='left', left_index=True, right_index=True)\n",
    "                    .reset_index())\n",
    "\n",
    "device_apps_train = device_apps.dropna(subset=['trainrow'])\n",
    "Xtr_app = csr_matrix((np.ones(device_apps_train.shape[0]), (device_apps_train.trainrow, device_apps_train.app)), shape=(gatrain_has_events.shape[0],napps))\n",
    "device_apps_test = device_apps.dropna(subset=['testrow'])\n",
    "Xte_app = csr_matrix((np.ones(device_apps_test.shape[0]), (device_apps_test.testrow, device_apps_test.app)), shape=(gatest_has_events.shape[0],napps))\n",
    "#print('Apps data: train shape:',Xtr_app.shape, 'test shape:' ,Xte_app.shape)\n",
    "\n",
    "#BOW for Labels\n",
    "app_labels = apps_label_data.loc[apps_label_data['app_id'].isin(apps_events_data['app_id'].unique())]\n",
    "app_labels['app'] = app_encoder.transform(app_labels['app_id'])\n",
    "labelencoder = LabelEncoder().fit(app_labels['label_id'])\n",
    "app_labels['label'] = labelencoder.transform(app_labels['label_id'])\n",
    "nlabels = len(labelencoder.classes_)\n",
    "\n",
    "device_labels = (device_apps[['device_id','app']]\n",
    "            .merge(app_labels[['app','label']])\n",
    "            .groupby(['device_id','label'])['app'].agg(['size'])\n",
    "            .merge(gatrain_has_events[['trainrow']], how='left', left_index=True, right_index=True)\n",
    "            .merge(gatest_has_events[['testrow']], how='left', left_index=True, right_index=True)\n",
    "            .reset_index())\n",
    "\n",
    "device_labels_train = device_labels.dropna(subset=['trainrow'])\n",
    "Xtr_label = csr_matrix((np.ones(device_labels_train.shape[0]), (device_labels_train.trainrow, device_labels_train.label)), shape=(gatrain_has_events.shape[0],nlabels))\n",
    "device_labels_test = device_labels.dropna(subset=['testrow'])\n",
    "Xte_label = csr_matrix((np.ones(device_labels_test.shape[0]), (device_labels_test.testrow, device_labels_test.label)), shape=(gatest_has_events.shape[0],nlabels))\n",
    "#print('Label data: train shape:',Xtr_app.shape, 'test shape:' ,Xte_app.shape)\n",
    "\n",
    "#TFIDF for hour feature\n",
    "events_data['hour'] = events_data.timestamp.dt.hour\n",
    "event_hours = events_data.groupby(\"device_id\")[\"hour\"].apply(lambda x: \" \".join(str(s) for s in x)).to_frame()\n",
    "\n",
    "event_hours=(event_hours.merge(gatrain_has_events[['trainrow']], how='left', left_index=True, right_index=True)\n",
    "          .merge(gatest_has_events[['testrow']], how='left', left_index=True, right_index=True)\n",
    "          .reset_index())\n",
    "\n",
    "Hour_train = event_hours.dropna(subset=['trainrow'])\n",
    "Hour_test = event_hours.dropna(subset=['testrow'])\n",
    "\n",
    "vectorizer=TfidfVectorizer()\n",
    "vectorizer.fit(Hour_train['hour'].values)\n",
    "\n",
    "X_tr_event_hours = vectorizer.transform(Hour_train['hour'].values).tocsr()\n",
    "X_te_event_hours = vectorizer.transform(Hour_test['hour'].values).tocsr()\n",
    "\n",
    "#TFIDF for day feature\n",
    "events_data['event_day'] = events_data.timestamp.dt.weekday\n",
    "Week_of_eventday = (events_data.groupby(\"device_id\")[\"event_day\"].apply(lambda x: \" \".join('0'+str(s) for s in x)).to_frame()\n",
    "                    .merge(gatrain_has_events[['trainrow']], how='left', left_index=True, right_index=True)\n",
    "                    .merge(gatest_has_events[['testrow']], how='left', left_index=True, right_index=True)\n",
    "                    .reset_index())\n",
    "\n",
    "Day_train = Week_of_eventday.dropna(subset=['trainrow'])\n",
    "Day_test = Week_of_eventday.dropna(subset=['testrow'])\n",
    "\n",
    "vectorizer=TfidfVectorizer()\n",
    "vectorizer.fit(Day_train['event_day'].values)\n",
    "\n",
    "X_tr_event_day = vectorizer.transform(Day_train['event_day'].values).tocsr()\n",
    "X_te_event_day = vectorizer.transform(Day_test['event_day'].values).tocsr()\n",
    "\n",
    "#TFIDF for apps active feature\n",
    "\n",
    "apps_active_data = apps_events_data.groupby(\"event_id\")[\"is_active\"].apply(lambda x: \" \".join(str(s) for s in x))\n",
    "events_data[\"apps_active\"] = events_data.index.map(apps_active_data)\n",
    "events_apps_active = (events_data.groupby(\"device_id\")[\"apps_active\"].apply(lambda x: \" \".join(str(s) for s in x if str(s)!='nan')).to_frame()\n",
    "                    .merge(gatrain_has_events[['trainrow']], how='left', left_index=True, right_index=True)\n",
    "                    .merge(gatest_has_events[['testrow']], how='left', left_index=True, right_index=True)\n",
    "                    .reset_index())\n",
    "app_event_train = events_apps_active.dropna(subset=['trainrow'])\n",
    "app_event_test = events_apps_active.dropna(subset=['testrow'])\n",
    "\n",
    "vectorizer=TfidfVectorizer()\n",
    "vectorizer.fit(app_event_train['apps_active'].values)\n",
    "\n",
    "X_tr_apps_active = vectorizer.transform(app_event_train['apps_active'].values).tocsr()\n",
    "X_te_apps_active = vectorizer.transform(app_event_test['apps_active'].values).tocsr()\n",
    "\n",
    "\n",
    "#Location median\n",
    "events_lat_data = (events_data.groupby(\"device_id\")[\"latitude\"].apply(lambda x: np.median([float(s) for s in x])).to_frame()\n",
    "                    .merge(gatrain_has_events[['trainrow']], how='left', left_index=True, right_index=True)\n",
    "                    .merge(gatest_has_events[['testrow']], how='left', left_index=True, right_index=True)\n",
    "                    .reset_index())\n",
    "events_long_data = (events_data.groupby(\"device_id\")[\"longitude\"].apply(lambda x: np.median([float(s) for s in x])).to_frame()\n",
    "                    .merge(gatrain_has_events[['trainrow']], how='left', left_index=True, right_index=True)\n",
    "                    .merge(gatest_has_events[['testrow']], how='left', left_index=True, right_index=True)\n",
    "                    .reset_index())\n",
    "\n",
    "lat_events_train=abs(events_lat_data.dropna(subset=['trainrow']))\n",
    "lat_events_test=abs(events_lat_data.dropna(subset=['testrow']))\n",
    "long_events_train=abs(events_long_data.dropna(subset=['trainrow']))\n",
    "long_events_test=abs(events_long_data.dropna(subset=['testrow']))\n",
    "\n",
    "std_scaler=StandardScaler()\n",
    "std_scaler.fit(lat_events_train['latitude'].values.reshape(-1,1))\n",
    "X_tr_event_lat_med = std_scaler.transform(lat_events_train['latitude'].values.reshape(-1,1))\n",
    "X_te_event_lat_med = std_scaler.transform(lat_events_test['latitude'].values.reshape(-1,1))\n",
    "\n",
    "std_scaler=StandardScaler()\n",
    "std_scaler.fit(long_events_train['longitude'].values.reshape(-1,1))\n",
    "X_tr_event_long_med = std_scaler.transform(long_events_train['longitude'].values.reshape(-1,1))\n",
    "X_te_event_long_med = std_scaler.transform(long_events_test['longitude'].values.reshape(-1,1))\n",
    "\n",
    "\n",
    "#location outlier feature:\n",
    "event_lat_long=events_long_data.merge(events_lat_data[['latitude']], how='left', left_index=True, right_index=True)\n",
    "outlier_devices=event_lat_long.loc[event_lat_long['latitude']==0.00].loc[event_lat_long['longitude']==0.00]['device_id'].unique()\n",
    "\n",
    "events_data['missing_location']=events_data.device_id.apply(lambda x:1 if x in outlier_devices else 0) \n",
    "\n",
    "loc_outlier = (events_data[['device_id','missing_location']]\n",
    "                    .merge(gatrain_has_events[['trainrow']], how='left', left_index=True, right_index=True)\n",
    "                    .merge(gatest_has_events[['testrow']], how='left', left_index=True, right_index=True)\n",
    "                    .reset_index())\n",
    "\n",
    "loc_outlier_tr = loc_outlier.dropna(subset=['trainrow'])\n",
    "Xtr_loc_outlier = csr_matrix((np.ones(loc_outlier_tr.shape[0]), (loc_outlier_tr.trainrow, loc_outlier_tr['missing_location'])),shape=(gatrain_has_events.shape[0],2))\n",
    "\n",
    "loc_outlier_te = loc_outlier.dropna(subset=['testrow'])\n",
    "Xte_loc_outlier = csr_matrix((np.ones(loc_outlier_te.shape[0]), (loc_outlier_te.testrow, loc_outlier_te['missing_location'])),shape=(gatest_has_events.shape[0],2))\n",
    "#print('location_outlier data: train shape:',Xtr_location_outlier.shape, 'test shape:' ,Xte_location_outlier.shape)\n",
    "\n",
    "\n",
    "\n",
    "\n",
    "\n",
    "Xtrain_events = hstack((Xtr_brand, Xtr_model,Xtr_app,Xtr_label,X_tr_event_hours,X_tr_event_day,X_tr_apps_active,X_tr_event_lat_med,X_tr_event_long_med,Xtr_loc_outlier), format='csr')\n",
    "Xtest_events =  hstack((Xte_brand, Xte_model,Xte_app,Xte_label,X_te_event_hours,X_te_event_day,X_te_apps_active,X_te_event_lat_med,X_te_event_long_med,Xte_loc_outlier), format='csr')\n",
    "print('Data with Events features: train shape:',Xtrain_events.shape, 'test shape:' ,Xtest_events.shape)"
   ]
  },
  {
   "cell_type": "code",
   "execution_count": null,
   "metadata": {
    "id": "GJh16JRhZ1TW"
   },
   "outputs": [],
   "source": [
    "import scipy.sparse\n",
    "from scipy import sparse\n",
    "#scipy.sparse.save_npz('/content/drive/MyDrive/Talkingdata_CS1/talkingdata-mobile-user-demographics/Xtrain_events.npz', Xtrain_events)\n",
    "#scipy.sparse.save_npz('/content/drive/MyDrive/Talkingdata_CS1/talkingdata-mobile-user-demographics/Xtrain_noevents.npz', Xtrain_noevents)\n",
    "#scipy.sparse.save_npz('/content/drive/MyDrive/Talkingdata_CS1/talkingdata-mobile-user-demographics/Xtest_events.npz', Xtest_events)\n",
    "#scipy.sparse.save_npz('/content/drive/MyDrive/Talkingdata_CS1/talkingdata-mobile-user-demographics/Xtest_noevents.npz', Xtest_noevents)\n",
    "#scipy.sparse.save_npz('/content/drive/MyDrive/Talkingdata_CS1/talkingdata-mobile-user-demographics/Xtrain_all.npz', Xtrain_all)\n",
    "#scipy.sparse.save_npz('/content/drive/MyDrive/Talkingdata_CS1/talkingdata-mobile-user-demographics/Xtest_all.npz', Xtest_all)\n",
    "\n",
    "#Ytrain_events=sparse.csr_matrix(Ytrain_events)\n",
    "#Ytrain_noevents=sparse.csr_matrix(Ytrain_noevents)\n",
    "#Ytrain_all=sparse.csr_matrix(Ytrain_all)\n",
    "#scipy.sparse.save_npz('/content/drive/MyDrive/Talkingdata_CS1/talkingdata-mobile-user-demographics/Ytrain_events.npz', Ytrain_events)\n",
    "#scipy.sparse.save_npz('/content/drive/MyDrive/Talkingdata_CS1/talkingdata-mobile-user-demographics/Ytrain_noevents.npz', Ytrain_noevents)\n",
    "#scipy.sparse.save_npz('/content/drive/MyDrive/Talkingdata_CS1/talkingdata-mobile-user-demographics/Ytrain_all.npz', Ytrain_all)"
   ]
  },
  {
   "cell_type": "markdown",
   "metadata": {
    "id": "mDuA-OB4nTKV"
   },
   "source": [
    "#Loading"
   ]
  },
  {
   "cell_type": "code",
   "execution_count": null,
   "metadata": {
    "id": "KCpQl18Wu6IV"
   },
   "outputs": [],
   "source": [
    "import scipy.sparse\n",
    "from scipy import sparse\n",
    "\n",
    "Xtrain_events=scipy.sparse.load_npz('/content/drive/MyDrive/Talkingdata_CS1/talkingdata-mobile-user-demographics/Xtrain_events.npz')\n",
    "Xtrain_noevents=scipy.sparse.load_npz('/content/drive/MyDrive/Talkingdata_CS1/talkingdata-mobile-user-demographics/Xtrain_noevents.npz')\n",
    "Xtest_events=scipy.sparse.load_npz('/content/drive/MyDrive/Talkingdata_CS1/talkingdata-mobile-user-demographics/Xtest_events.npz')\n",
    "Xtest_noevents=scipy.sparse.load_npz('/content/drive/MyDrive/Talkingdata_CS1/talkingdata-mobile-user-demographics/Xtest_noevents.npz' )\n",
    "Xtrain_all=scipy.sparse.load_npz('/content/drive/MyDrive/Talkingdata_CS1/talkingdata-mobile-user-demographics/Xtrain_all.npz' )\n",
    "Xtest_all=scipy.sparse.load_npz('/content/drive/MyDrive/Talkingdata_CS1/talkingdata-mobile-user-demographics/Xtest_all.npz' )\n",
    "\n",
    "Ytrain_events=scipy.sparse.load_npz('/content/drive/MyDrive/Talkingdata_CS1/talkingdata-mobile-user-demographics/Ytrain_events.npz' )\n",
    "Ytrain_noevents=scipy.sparse.load_npz('/content/drive/MyDrive/Talkingdata_CS1/talkingdata-mobile-user-demographics/Ytrain_noevents.npz')\n",
    "Ytrain_all=scipy.sparse.load_npz('/content/drive/MyDrive/Talkingdata_CS1/talkingdata-mobile-user-demographics/Ytrain_all.npz' )\n",
    "Ytrain_events=sparse.csr_matrix.toarray(Ytrain_events)[0]\n",
    "Ytrain_noevents=sparse.csr_matrix.toarray(Ytrain_noevents)[0]\n",
    "Ytrain_all=sparse.csr_matrix.toarray(Ytrain_all)[0]"
   ]
  },
  {
   "cell_type": "markdown",
   "metadata": {
    "id": "jjVHpF57SaiQ"
   },
   "source": [
    "#Approach:"
   ]
  },
  {
   "cell_type": "code",
   "execution_count": null,
   "metadata": {
    "colab": {
     "base_uri": "https://localhost:8080/",
     "height": 571
    },
    "id": "R4Ew8yGkShAY",
    "outputId": "b8e0e78f-669c-4fde-848d-dbc696fefcfa"
   },
   "outputs": [
    {
     "data": {
      "image/jpeg": "[encoded data removed]",
      "text/plain": [
       "<IPython.core.display.Image object>"
      ]
     },
     "execution_count": 1,
     "metadata": {
      "tags": []
     },
     "output_type": "execute_result"
    }
   ],
   "source": [
    "from IPython.display import Image\n",
    "Image(filename=('/content/chart_mf.JPG'))"
   ]
  },
  {
   "cell_type": "markdown",
   "metadata": {
    "id": "X22_pTAmwyEw"
   },
   "source": [
    "# **Models on Data without Events**"
   ]
  },
  {
   "cell_type": "code",
   "execution_count": null,
   "metadata": {
    "id": "y8qD7RVIcKfc"
   },
   "outputs": [],
   "source": [
    "# train test split\n",
    "from sklearn.model_selection import train_test_split\n",
    "x_train, x_cv, y_train, y_cv = train_test_split(Xtrain_all, Ytrain_all, test_size=0.15, stratify=Ytrain_all,random_state=10)"
   ]
  },
  {
   "cell_type": "markdown",
   "metadata": {
    "id": "aELiR1fE9p1E"
   },
   "source": [
    "#Appplying LogisticRegression"
   ]
  },
  {
   "cell_type": "code",
   "execution_count": null,
   "metadata": {
    "colab": {
     "base_uri": "https://localhost:8080/"
    },
    "id": "Br1s-vurSoei",
    "outputId": "7e816ecc-73cc-412b-fe56-4d9be3fd0e16"
   },
   "outputs": [
    {
     "name": "stdout",
     "output_type": "stream",
     "text": [
      "cv log_loss for C= 0.0001 is 2.4249213424010136\n",
      "cv log_loss for C= 0.001 is 2.412113705036659\n",
      "cv log_loss for C= 0.01 is 2.3976830872132404\n",
      "cv log_loss for C= 0.1 is 2.390850104144421\n",
      "cv log_loss for C= 1 is 2.404019112899443\n",
      "cv log_loss for C= 10 is 2.433499874529464\n",
      "cv log_loss for C= 100 is 2.4426966181246623\n",
      "\n",
      "Best Values -Logistic Regression\n",
      "\n",
      "train log_loss for C= 0.1 is 2.3558331330807096\n",
      "cv log_loss for C= 0.1 is 2.390850104144421\n"
     ]
    }
   ],
   "source": [
    "#Appplying LogisticRegression:\n",
    "#Hyper parameter Tuning:\n",
    "C_values = [0.0001,0.001,0.01,0.1,1,10,100]\n",
    "log_loss_list_tr = []\n",
    "log_loss_list_cv = []\n",
    "for i in C_values:\n",
    "    clf_lr_noev = LogisticRegression(C=i,random_state=10)\n",
    "    clf_lr_noev.fit(x_train,y_train)\n",
    "    log_loss_tr_lr=log_loss(y_train,clf_lr_noev.predict_proba(x_train))\n",
    "    log_loss_cv_lr=log_loss(y_cv,clf_lr_noev.predict_proba(x_cv))\n",
    "    log_loss_list_tr.append(log_loss_tr_lr)\n",
    "    log_loss_list_cv.append(log_loss_cv_lr)\n",
    "    print('cv log_loss for C=',i,'is',log_loss_cv_lr)\n",
    "\n",
    "best_C = C_values[np.argmin(log_loss_list_cv)]\n",
    "clf_lr_noev = LogisticRegression(C=best_C,random_state=10)\n",
    "clf_lr_noev.fit(x_train,y_train)\n",
    "y_pred_tr=clf_lr_noev.predict_proba(x_train)\n",
    "y_pred_cv=clf_lr_noev.predict_proba(x_cv)\n",
    "log_loss_tr_lr_noev=log_loss(y_train,clf_lr_noev.predict_proba(x_train))\n",
    "log_loss_cv_lr_noev=log_loss(y_cv,clf_lr_noev.predict_proba(x_cv))\n",
    "print('\\nBest Values -Logistic Regression')\n",
    "print('\\ntrain log_loss for C=',best_C,'is',log_loss_tr_lr_noev)\n",
    "print('cv log_loss for C=',best_C,'is',log_loss_cv_lr_noev)"
   ]
  },
  {
   "cell_type": "markdown",
   "metadata": {
    "id": "k_zUe7aaX4F1"
   },
   "source": [
    "#Applying Naive Bayes"
   ]
  },
  {
   "cell_type": "code",
   "execution_count": null,
   "metadata": {
    "colab": {
     "base_uri": "https://localhost:8080/"
    },
    "id": "NPvyE-0v2bL_",
    "outputId": "20969f38-80b5-420b-866f-cd2365dc006c"
   },
   "outputs": [
    {
     "name": "stdout",
     "output_type": "stream",
     "text": [
      "cv log_loss for alpha= 0.01 is 2.594541863660797\n",
      "cv log_loss for alpha= 0.1 is 2.4942273493766702\n",
      "cv log_loss for alpha= 1 is 2.4321837917788063\n",
      "cv log_loss for alpha= 10 is 2.4449004483052534\n",
      "cv log_loss for alpha= 100 is 2.4520242511543806\n",
      "cv log_loss for alpha= 1000 is 2.4250394331581977\n",
      "cv log_loss for alpha= 10000 is 2.4255542022384273\n",
      "\n",
      "Best Values -Naive Bayes\n",
      "\n",
      "train log_loss for alpha= 1000 is 2.422916400063427\n",
      "cv log_loss for alpha= 1000 is 2.4250394331581977\n"
     ]
    }
   ],
   "source": [
    "#Applying Naive Bayes\n",
    "#Hyper parameter Tuning:\n",
    "log_loss_list_tr = []\n",
    "log_loss_list_cv = []\n",
    "Alpha_values = [0.01,0.1,1,10,100,1000,10000]\n",
    "for i in Alpha_values:\n",
    "    clf_nb_noev = MultinomialNB(alpha=i)\n",
    "    clf_nb_noev.fit(x_train,y_train)\n",
    "    log_loss_tr_nb=log_loss(y_train,clf_nb_noev.predict_proba(x_train))\n",
    "    log_loss_cv_nb=log_loss(y_cv,clf_nb_noev.predict_proba(x_cv))\n",
    "    log_loss_list_tr.append(log_loss_tr_nb)\n",
    "    log_loss_list_cv.append(log_loss_cv_nb)\n",
    "    print('cv log_loss for alpha=',i,'is',log_loss_cv_nb)\n",
    "\n",
    "best_alpha = Alpha_values[np.argmin(log_loss_list_cv)]\n",
    "clf_nb_noev = MultinomialNB(alpha=best_alpha)\n",
    "clf_nb_noev.fit(x_train,y_train)\n",
    "log_loss_tr_nb_noev=log_loss(y_train,clf_nb_noev.predict_proba(x_train))\n",
    "log_loss_cv_nb_noev=log_loss(y_cv,clf_nb_noev.predict_proba(x_cv))\n",
    "print('\\nBest Values -Naive Bayes')\n",
    "print('\\ntrain log_loss for alpha=',best_alpha,'is',log_loss_tr_nb_noev)\n",
    "print('cv log_loss for alpha=',best_alpha,'is',log_loss_cv_nb_noev)"
   ]
  },
  {
   "cell_type": "markdown",
   "metadata": {
    "id": "646-x3k7jFu5"
   },
   "source": [
    "#Applying Decision Tree"
   ]
  },
  {
   "cell_type": "code",
   "execution_count": null,
   "metadata": {
    "colab": {
     "base_uri": "https://localhost:8080/"
    },
    "id": "X1V0VVCIjNuI",
    "outputId": "7a86fb47-837a-4a74-afef-0a592f2fbf6d"
   },
   "outputs": [
    {
     "name": "stdout",
     "output_type": "stream",
     "text": [
      "Heatmap for log_loss values Train data\n"
     ]
    },
    {
     "data": {
      "image/png": "[encoded data removed]",
      "text/plain": [
       "<Figure size 432x288 with 2 Axes>"
      ]
     },
     "metadata": {
      "needs_background": "light",
      "tags": []
     },
     "output_type": "display_data"
    },
    {
     "name": "stdout",
     "output_type": "stream",
     "text": [
      "\n",
      "Heatmap for log_loss values CV data\n"
     ]
    },
    {
     "data": {
      "image/png": "[encoded data removed]",
      "text/plain": [
       "<Figure size 432x288 with 2 Axes>"
      ]
     },
     "metadata": {
      "needs_background": "light",
      "tags": []
     },
     "output_type": "display_data"
    },
    {
     "name": "stdout",
     "output_type": "stream",
     "text": [
      "\n",
      "Best Values for Decision Trees\n",
      "\n",
      "train log_loss for max_depth= 5 ,min_samples_split= 100 is 2.401737796174455\n",
      "cv log_loss for max_depth= 5 ,min_samples_split= 100 is 2.4069909571046173\n"
     ]
    }
   ],
   "source": [
    "#Applying Decision Tree\n",
    "#Hyper parameter Tuning:\n",
    "\n",
    "max_depth_list=[1, 5, 10, 50]\n",
    "min_split_list=[5, 10, 100, 500]\n",
    "log_loss_list_tr = []\n",
    "log_loss_list_cv = []\n",
    "for i in min_split_list:\n",
    "  for j in max_depth_list:\n",
    "    clf_dt_noev = DecisionTreeClassifier(max_depth=j,min_samples_split=i,random_state=10)\n",
    "    clf_dt_noev.fit(x_train,y_train)\n",
    "    y_pred_tr=clf_dt_noev.predict_proba(x_train)\n",
    "    y_pred_cv=clf_dt_noev.predict_proba(x_cv)\n",
    "    log_loss_tr_dt=log_loss(y_train,y_pred_tr)\n",
    "    log_loss_cv_dt=log_loss(y_cv,y_pred_cv)\n",
    "    log_loss_list_tr.append(log_loss_tr_dt)\n",
    "    log_loss_list_cv.append(log_loss_cv_dt)\n",
    "\n",
    "\n",
    "#representing Log_Loss values in HEat Maps\n",
    "sbn_log_loss_tr=np.reshape(log_loss_list_tr,(4,4))\n",
    "sbn_log_loss_cv=np.reshape(log_loss_list_cv,(4,4))\n",
    "import seaborn as sns\n",
    "xticks=[1,5,10,50]\n",
    "yticks=[5, 10, 100, 500]\n",
    "\n",
    "print('Heatmap for log_loss values Train data')\n",
    "heat_map_cv = sns.heatmap(sbn_log_loss_tr, annot=True,yticklabels=yticks,xticklabels=xticks,fmt='.5f')\n",
    "plt.xlabel('max_depth_list')\n",
    "plt.ylabel('min_split_list')\n",
    "plt.show()\n",
    "\n",
    "print('\\nHeatmap for log_loss values CV data')\n",
    "heat_map_cv = sns.heatmap(sbn_log_loss_cv, annot=True,yticklabels=yticks,xticklabels=xticks,fmt='.5f')\n",
    "plt.xlabel('max_depth_list')\n",
    "plt.ylabel('min_split_list')\n",
    "plt.show()\n",
    "\n",
    "\n",
    "best_max_depth=5\n",
    "best_min_samples_split=100\n",
    "\n",
    "clf_dt_noev = DecisionTreeClassifier(max_depth=best_max_depth,min_samples_split=best_min_samples_split,random_state=10)\n",
    "clf_dt_noev.fit(x_train,y_train)\n",
    "y_pred_tr=clf_dt_noev.predict_proba(x_train)\n",
    "y_pred_cv=clf_dt_noev.predict_proba(x_cv)\n",
    "log_loss_tr_dt_noev=log_loss(y_train,y_pred_tr)\n",
    "log_loss_cv_dt_noev=log_loss(y_cv,y_pred_cv)\n",
    "print('\\nBest Values for Decision Trees')\n",
    "print('\\ntrain log_loss for max_depth=',best_max_depth,',min_samples_split=',best_min_samples_split,'is',log_loss_tr_dt_noev)\n",
    "print('cv log_loss for max_depth=',best_max_depth,',min_samples_split=',best_min_samples_split,'is',log_loss_cv_dt_noev)"
   ]
  },
  {
   "cell_type": "markdown",
   "metadata": {
    "id": "yJoZALa_jL_j"
   },
   "source": [
    "#Applying Random Forest Classifier"
   ]
  },
  {
   "cell_type": "code",
   "execution_count": null,
   "metadata": {
    "colab": {
     "base_uri": "https://localhost:8080/",
     "height": 679
    },
    "id": "8B75upJXlzWL",
    "outputId": "c5e032ce-7c25-406d-e5c3-d35262085d39"
   },
   "outputs": [
    {
     "name": "stdout",
     "output_type": "stream",
     "text": [
      "\n",
      "Heatmap for log_loss values Train data\n"
     ]
    },
    {
     "data": {
      "image/png": "[encoded data removed]",
      "text/plain": [
       "<Figure size 432x288 with 2 Axes>"
      ]
     },
     "metadata": {
      "needs_background": "light",
      "tags": []
     },
     "output_type": "display_data"
    },
    {
     "name": "stdout",
     "output_type": "stream",
     "text": [
      "\n",
      "Heatmap for log_loss values CV data\n"
     ]
    },
    {
     "data": {
      "image/png": "[encoded data removed]",
      "text/plain": [
       "<Figure size 432x288 with 2 Axes>"
      ]
     },
     "metadata": {
      "needs_background": "light",
      "tags": []
     },
     "output_type": "display_data"
    },
    {
     "name": "stdout",
     "output_type": "stream",
     "text": [
      "Best Values-Random Forest:\n",
      "\n",
      "train log_loss for max_depth= 50 ,min_samples_split= 100 is 2.3577910059503533\n",
      "cv log_loss for max_depth= 50 ,min_samples_split= 100 is 2.391646384699301\n"
     ]
    }
   ],
   "source": [
    "\n",
    "from sklearn.ensemble import RandomForestClassifier\n",
    "log_loss_list_tr = []\n",
    "log_loss_list_cv = []\n",
    "#Hyper parameter Tuning:\n",
    "\n",
    "max_depth_list=[1, 5, 10, 50]\n",
    "min_split_list=[5, 10, 100, 500]\n",
    "for i in min_split_list:\n",
    "  for j in max_depth_list:\n",
    "    clf_rf_noev = RandomForestClassifier(max_depth=j,min_samples_split=i,random_state=10)\n",
    "    clf_rf_noev.fit(x_train,y_train)\n",
    "    y_pred_tr=clf_rf_noev.predict_proba(x_train)\n",
    "    y_pred_cv=clf_rf_noev.predict_proba(x_cv)\n",
    "    log_loss_tr_rf=log_loss(y_train,y_pred_tr)\n",
    "    log_loss_cv_rf=log_loss(y_cv,y_pred_cv)\n",
    "    log_loss_list_tr.append(log_loss_tr_rf)\n",
    "    log_loss_list_cv.append(log_loss_cv_rf)\n",
    "\n",
    "#representing Log_Loss values in HEat Maps\n",
    "sbn_log_loss_tr=np.reshape(log_loss_list_tr,(4,4))\n",
    "sbn_log_loss_cv=np.reshape(log_loss_list_cv,(4,4))\n",
    "import seaborn as sns\n",
    "xticks=[1,5,10,50]\n",
    "yticks=[5, 10, 100, 500]\n",
    "\n",
    "print('\\nHeatmap for log_loss values Train data')\n",
    "heat_map_cv = sns.heatmap(sbn_log_loss_tr, annot=True,yticklabels=yticks,xticklabels=xticks,fmt='.5f')\n",
    "plt.xlabel('max_depth_list')\n",
    "plt.ylabel('min_split_list')\n",
    "plt.show()\n",
    "\n",
    "print('\\nHeatmap for log_loss values CV data')\n",
    "heat_map_cv = sns.heatmap(sbn_log_loss_cv, annot=True,yticklabels=yticks,xticklabels=xticks,fmt='.5f')\n",
    "plt.xlabel('max_depth_list')\n",
    "plt.ylabel('min_split_list')\n",
    "plt.show()\n",
    "\n",
    "best_max_depth=50\n",
    "best_min_samples_split=100\n",
    "\n",
    "clf_rf_noev = RandomForestClassifier(max_depth=best_max_depth,min_samples_split=best_min_samples_split,random_state=10)\n",
    "clf_rf_noev.fit(x_train,y_train)\n",
    "y_pred_tr=clf_rf_noev.predict_proba(x_train)\n",
    "y_pred_cv=clf_rf_noev.predict_proba(x_cv)\n",
    "log_loss_tr_rf_noev=log_loss(y_train,y_pred_tr)\n",
    "log_loss_cv_rf_noev=log_loss(y_cv,y_pred_cv)\n",
    "print('Best Values-Random Forest:')\n",
    "print('\\ntrain log_loss for max_depth=',best_max_depth,',min_samples_split=',best_min_samples_split,'is',log_loss_tr_rf_noev)\n",
    "print('cv log_loss for max_depth=',best_max_depth,',min_samples_split=',best_min_samples_split,'is',log_loss_cv_rf_noev)\n"
   ]
  },
  {
   "cell_type": "markdown",
   "metadata": {
    "id": "3bS_TKoPje-I"
   },
   "source": [
    "#Applying LGBM Classifier"
   ]
  },
  {
   "cell_type": "code",
   "execution_count": null,
   "metadata": {
    "colab": {
     "base_uri": "https://localhost:8080/"
    },
    "id": "0NAU6PYQ5aV9",
    "outputId": "75570cc0-5337-4a19-d12d-909c9f82f7d1"
   },
   "outputs": [
    {
     "name": "stdout",
     "output_type": "stream",
     "text": [
      "cv log_loss for estimator= 10 is 2.4049253242786888\n",
      "cv log_loss for estimator= 50 is 2.395814562467214\n",
      "cv log_loss for estimator= 100 is 2.399804585744444\n",
      "cv log_loss for estimator= 350 is 2.42434352317137\n",
      "cv log_loss for estimator= 400 is 2.4287102962778184\n",
      "cv log_loss for estimator= 500 is 2.4367398977905537\n",
      "Best Values-LGBM Classifier\n",
      "\n",
      " Train log_loss for estimator= 50 is 2.3656119981467896\n",
      "cv log_loss for estimator= 50 is 2.395814562467214\n"
     ]
    }
   ],
   "source": [
    "import matplotlib.pyplot as plt\n",
    "from tqdm import tqdm\n",
    "from lightgbm import LGBMClassifier\n",
    "\n",
    "log_loss_list_tr = []\n",
    "log_loss_list_cv = []\n",
    "#Hyper parameter Tuning:\n",
    "n_est=[10,50,100,350,400,500]\n",
    "for i in n_est:\n",
    "    #clf=CatBoostClassifier(n_estimators=i,learning_rate=0.05, colsample_bytree=0.7, max_depth=5,subsample=0.7,objective='multi:softprob',num_class=12,eval_metric='mlogloss')\n",
    "    clf=LGBMClassifier(verbose=0, n_estimators=i,random_state=10)\n",
    "    clf.fit(x_train, y_train)\n",
    "    y_pred_tr=clf.predict_proba(x_train)\n",
    "    y_pred_cv=clf.predict_proba(x_cv)\n",
    "    log_loss_tr=log_loss(y_train,y_pred_tr)\n",
    "    log_loss_cv=log_loss(y_cv,y_pred_cv)\n",
    "    log_loss_list_tr.append(log_loss_tr)\n",
    "    log_loss_list_cv.append(log_loss_cv)\n",
    "    #print('\\ntrain log_loss for alpha=',i,'is',log_loss_tr)\n",
    "    print('cv log_loss for estimator=',i,'is',log_loss_cv)\n",
    "\n",
    "best_est = n_est[np.argmin(log_loss_list_cv)]\n",
    "\n",
    "#clf=CatBoostClassifier(n_estimators=i,learning_rate=0.05, colsample_bytree=0.7, max_depth=5,subsample=0.7,objective='multi:softprob',num_class=12,eval_metric='mlogloss')\n",
    "clf=LGBMClassifier(verbose=0, n_estimators=best_est,random_state=10)\n",
    "clf.fit(x_train, y_train)\n",
    "y_pred_tr=clf.predict_proba(x_train)\n",
    "y_pred_cv=clf.predict_proba(x_cv)\n",
    "log_loss_tr_lgbm_noev=log_loss(y_train,y_pred_tr)\n",
    "log_loss_cv_lgbm_noev=log_loss(y_cv,y_pred_cv)\n",
    "print('Best Values-LGBM Classifier')\n",
    "print('\\n Train log_loss for estimator=',best_est,'is',log_loss_tr_lgbm_noev)\n",
    "print('cv log_loss for estimator=',best_est,'is',log_loss_cv_lgbm_noev)"
   ]
  },
  {
   "cell_type": "markdown",
   "metadata": {
    "id": "HNKV9LpC2sOt"
   },
   "source": [
    "# Applying XGBoost:"
   ]
  },
  {
   "cell_type": "code",
   "execution_count": null,
   "metadata": {
    "colab": {
     "base_uri": "https://localhost:8080/"
    },
    "id": "O37ZcjL4c2yv",
    "outputId": "7f649da3-2275-4207-fa43-b1cd4b0a42b3"
   },
   "outputs": [
    {
     "name": "stdout",
     "output_type": "stream",
     "text": [
      "CV log_loss for estimator= 10 is 2.4501097126710603\n",
      "CV log_loss for estimator= 50 is 2.4054384782419276\n",
      "CV log_loss for estimator= 100 is 2.3973641254076354\n",
      "CV log_loss for estimator= 350 is 2.3927607925606593\n",
      "CV log_loss for estimator= 400 is 2.392690003855139\n",
      "CV log_loss for estimator= 500 is 2.3930834356914668\n",
      "/nBest Values-XGBoost\n",
      "\n",
      "train log_loss for alpha= 1000 is 2.358736080091337\n",
      "cv log_loss for alpha= 1000 is 2.392690003855139\n"
     ]
    }
   ],
   "source": [
    "#Applying XGBoost\n",
    "from xgboost import XGBClassifier\n",
    "#Hyper parameter Tuning:\n",
    "n_est=[10,50,100,350,400,500]\n",
    "log_loss_list_tr = []\n",
    "log_loss_list_cv = []\n",
    "for i in n_est:\n",
    "    clf_xgb_noev=XGBClassifier(n_estimators=i,n_jobs=-1,learning_rate=0.05, colsample_bytree=0.7, max_depth=5,subsample=0.7,objective='multi:softprob',num_class=12,eval_metric='mlogloss')\n",
    "    clf_xgb_noev.fit(x_train, y_train)\n",
    "    y_pred_tr=clf_xgb_noev.predict_proba(x_train)\n",
    "    y_pred_cv=clf_xgb_noev.predict_proba(x_cv)\n",
    "    log_loss_tr=log_loss(y_train,y_pred_tr)\n",
    "    log_loss_cv=log_loss(y_cv,y_pred_cv)\n",
    "    log_loss_list_tr.append(log_loss_tr)\n",
    "    log_loss_list_cv.append(log_loss_cv)\n",
    "    print('CV log_loss for estimator=',i,'is',log_loss_cv)\n",
    "\n",
    "best_estimator = n_est[np.argmin(log_loss_list_cv)]\n",
    "\n",
    "clf_xgb_noev=XGBClassifier(n_estimators=best_estimator,n_jobs=-1,learning_rate=0.05, colsample_bytree=0.7, max_depth=5,subsample=0.7,objective='multi:softprob',num_class=12,eval_metric='mlogloss')\n",
    "clf_xgb_noev.fit(x_train, y_train)\n",
    "y_pred_tr=clf_xgb_noev.predict_proba(x_train)\n",
    "y_pred_cv=clf_xgb_noev.predict_proba(x_cv)\n",
    "log_loss_tr_xgb_noev=log_loss(y_train,y_pred_tr)\n",
    "log_loss_cv_xgb_noev=log_loss(y_cv,y_pred_cv)\n",
    "print('/nBest Values-XGBoost')\n",
    "print('\\ntrain log_loss for alpha=',best_alpha,'is',log_loss_tr_xgb_noev)\n",
    "print('cv log_loss for alpha=',best_alpha,'is',log_loss_cv_xgb_noev)\n",
    "\n",
    "\n"
   ]
  },
  {
   "cell_type": "markdown",
   "metadata": {
    "id": "snNBzV87yNv1"
   },
   "source": [
    "# Applying CatBoost Classifier"
   ]
  },
  {
   "cell_type": "code",
   "execution_count": null,
   "metadata": {
    "colab": {
     "base_uri": "https://localhost:8080/"
    },
    "id": "0dyPIS9CoMKB",
    "outputId": "d62ce473-3893-481c-bce8-893e0e0ddc68"
   },
   "outputs": [
    {
     "name": "stderr",
     "output_type": "stream",
     "text": [
      "Warning: less than 75% gpu memory available for training. Free: 11717.75 Total: 16280.875\n"
     ]
    },
    {
     "name": "stdout",
     "output_type": "stream",
     "text": [
      "cv log_loss for estimator= 10 is 2.4035085179252365\n"
     ]
    },
    {
     "name": "stderr",
     "output_type": "stream",
     "text": [
      "Warning: less than 75% gpu memory available for training. Free: 11717.75 Total: 16280.875\n"
     ]
    },
    {
     "name": "stdout",
     "output_type": "stream",
     "text": [
      "cv log_loss for estimator= 50 is 2.397886079333646\n"
     ]
    },
    {
     "name": "stderr",
     "output_type": "stream",
     "text": [
      "Warning: less than 75% gpu memory available for training. Free: 11717.75 Total: 16280.875\n"
     ]
    },
    {
     "name": "stdout",
     "output_type": "stream",
     "text": [
      "cv log_loss for estimator= 100 is 2.3959661680961273\n"
     ]
    },
    {
     "name": "stderr",
     "output_type": "stream",
     "text": [
      "Warning: less than 75% gpu memory available for training. Free: 11717.75 Total: 16280.875\n"
     ]
    },
    {
     "name": "stdout",
     "output_type": "stream",
     "text": [
      "cv log_loss for estimator= 500 is 2.3910671771271335\n"
     ]
    },
    {
     "name": "stderr",
     "output_type": "stream",
     "text": [
      "Warning: less than 75% gpu memory available for training. Free: 11717.75 Total: 16280.875\n"
     ]
    },
    {
     "name": "stdout",
     "output_type": "stream",
     "text": [
      "cv log_loss for estimator= 1000 is 2.3906847195858183\n"
     ]
    },
    {
     "name": "stderr",
     "output_type": "stream",
     "text": [
      "Warning: less than 75% gpu memory available for training. Free: 11717.75 Total: 16280.875\n"
     ]
    },
    {
     "name": "stdout",
     "output_type": "stream",
     "text": [
      "cv log_loss for estimator= 2000 is 2.395726967245497\n"
     ]
    },
    {
     "name": "stderr",
     "output_type": "stream",
     "text": [
      "Warning: less than 75% gpu memory available for training. Free: 11717.75 Total: 16280.875\n"
     ]
    },
    {
     "name": "stdout",
     "output_type": "stream",
     "text": [
      "\n",
      "Train log_loss for estimator= 1000 is 2.33154950622023\n",
      "CV log_loss for estimator= 1000 is 2.3906847195858183\n"
     ]
    }
   ],
   "source": [
    "#Applying CatBoost Classifier\n",
    "#Hyper parameter Tuning:\n",
    "log_loss_list_tr = []\n",
    "log_loss_list_cv = []\n",
    "n_est=[10,50,100,500,1000,2000]\n",
    "for i in n_est:\n",
    "    clf_cat_noev=CatBoostClassifier(verbose=0, iterations=i,learning_rate=0.2,depth=10,task_type=\"GPU\")\n",
    "    clf_cat_noev.fit(x_train, y_train)\n",
    "    y_pred_tr=clf_cat_noev.predict_proba(x_train)\n",
    "    y_pred_cv=clf_cat_noev.predict_proba(x_cv)\n",
    "    log_loss_tr=log_loss(y_train,y_pred_tr)\n",
    "    log_loss_cv=log_loss(y_cv,y_pred_cv)\n",
    "    log_loss_list_tr.append(log_loss_tr)\n",
    "    log_loss_list_cv.append(log_loss_cv)\n",
    "    print('cv log_loss for estimator=',i,'is',log_loss_cv)\n",
    "\n",
    "best_est = n_est[np.argmin(log_loss_list_cv)]\n",
    "\n",
    "clf_cat_noev=CatBoostClassifier(verbose=0, iterations=best_est,learning_rate=0.2,depth=10,task_type=\"GPU\")\n",
    "clf_cat_noev.fit(x_train, y_train)\n",
    "y_pred_tr=clf_cat_noev.predict_proba(x_train)\n",
    "y_pred_cv=clf_cat_noev.predict_proba(x_cv)\n",
    "log_loss_tr_cat_noev=log_loss(y_train,y_pred_tr)\n",
    "log_loss_cv_cat_noev=log_loss(y_cv,y_pred_cv)\n",
    "print('\\nTrain log_loss for estimator=',best_est,'is',log_loss_tr_cat_noev)\n",
    "print('CV log_loss for estimator=',best_est,'is',log_loss_cv_cat_noev)\n"
   ]
  },
  {
   "cell_type": "markdown",
   "metadata": {
    "id": "mdJ4qmP_7OTh"
   },
   "source": [
    "#Applying Neural Network1"
   ]
  },
  {
   "cell_type": "code",
   "execution_count": null,
   "metadata": {
    "colab": {
     "base_uri": "https://localhost:8080/"
    },
    "id": "WD8W3YVkRTat",
    "outputId": "2a0f0f6d-a349-4a68-d6bc-8556e15334b4"
   },
   "outputs": [
    {
     "name": "stdout",
     "output_type": "stream",
     "text": [
      "Neural Network 1:\n",
      "\n",
      "Train Log-Loss:  2.355657268051587\n",
      "\n",
      "CV Log-Loss:  2.3574415770367407\n"
     ]
    }
   ],
   "source": [
    "import tensorflow as tf\n",
    "from keras.callbacks import EarlyStopping,TensorBoard\n",
    "early_stop_1=EarlyStopping(monitor='val_loss',patience=5,restore_best_weights=True)\n",
    "from keras.models import Sequential\n",
    "from keras.layers import Dense, Dropout, Activation, BatchNormalization,Input,PReLU\n",
    "from keras.utils import np_utils\n",
    "from keras.optimizers import Adam\n",
    "from keras.models import Model\n",
    "from keras.optimizers import Adagrad\n",
    "\n",
    "\n",
    "def model_1(input_shape):\n",
    "    model = Sequential()\n",
    "    model.add(Dense(256, input_dim=input_shape))\n",
    "    model.add(PReLU())\n",
    "    model.add(BatchNormalization())\n",
    "    model.add(Dropout(0.5))\n",
    "    model.add(Dense(64))\n",
    "    model.add(PReLU())\n",
    "    model.add(BatchNormalization())\n",
    "    model.add(Dropout(0.5))\n",
    "    model.add(Dense(12))\n",
    "    model.add(Activation('softmax'))\n",
    "    model.compile(loss='categorical_crossentropy',\n",
    "              optimizer='adam',\n",
    "              metrics=['accuracy'])\n",
    "    return model\n",
    "\n",
    "nnmodels=20\n",
    "model_noev_list1=[]\n",
    "for i in range(nnmodels):\n",
    "    x_train, x_cv, y_train, y_cv = train_test_split(Xtrain_all, Ytrain_all, test_size=0.15, stratify=Ytrain_all,random_state=i*10)\n",
    "    y_train_cat=np_utils.to_categorical(y_train)\n",
    "    y_cv_cat=np_utils.to_categorical(y_cv)\n",
    "    model=model_1(x_train.shape[1])\n",
    "    model.fit(x_train, y_train_cat, batch_size=500, epochs=25, verbose=0, validation_data=(x_cv, y_cv_cat),callbacks=[early_stop_1])\n",
    "    model_noev_list1.append(model)\n",
    "\n",
    "x_train, x_cv, y_train, y_cv = train_test_split(Xtrain_all, Ytrain_all, test_size=0.15, stratify=Ytrain_all,random_state=10)\n",
    "y_pred_nn_tr=np.zeros((x_train.shape[0],12))\n",
    "y_pred_nn_cv=np.zeros((x_cv.shape[0],12))\n",
    "for i in range(nnmodels):\n",
    "  y_pred_nn_tr=y_pred_nn_tr+model_noev_list1[i].predict_proba(x_train)\n",
    "  y_pred_nn_cv=y_pred_nn_cv+model_noev_list1[i].predict_proba(x_cv)\n",
    "y_pred_nn_tr=y_pred_nn_tr/nnmodels\n",
    "y_pred_nn_cv=y_pred_nn_cv/nnmodels\n",
    "log_loss_tr_nn1_noev=log_loss(y_train, y_pred_nn_tr)\n",
    "log_loss_cv_nn1_noev=log_loss(y_cv, y_pred_nn_cv)\n",
    "print('Neural Network 1:')\n",
    "print(\"\\nTrain Log-Loss: \",log_loss_tr_nn1_noev)\n",
    "print(\"\\nCV Log-Loss: \",log_loss_cv_nn1_noev)\n",
    "\n"
   ]
  },
  {
   "cell_type": "markdown",
   "metadata": {
    "id": "rV1kqGMHJJhL"
   },
   "source": [
    "#Applying Neural Network2"
   ]
  },
  {
   "cell_type": "code",
   "execution_count": null,
   "metadata": {
    "colab": {
     "base_uri": "https://localhost:8080/"
    },
    "id": "3HrRLioGsdod",
    "outputId": "566e2556-23c4-4e39-b214-862eed12b66e"
   },
   "outputs": [
    {
     "name": "stdout",
     "output_type": "stream",
     "text": [
      "Neural Network 2:\n",
      "/ntrain Log-Loss:  2.352753893698253\n",
      "/nCV Log-Loss:  2.360735816625697\n"
     ]
    }
   ],
   "source": [
    "import tensorflow as tf\n",
    "from keras.callbacks import EarlyStopping,TensorBoard\n",
    "early_stop_1=EarlyStopping(monitor='val_loss',patience=4,restore_best_weights=True)\n",
    "from keras.models import Sequential\n",
    "from keras.layers import Dense, Dropout, Activation, BatchNormalization,Input,PReLU\n",
    "from keras.utils import np_utils\n",
    "from keras.optimizers import Adam\n",
    "from keras.models import Model\n",
    "from keras.optimizers import Adagrad\n",
    "\n",
    "\n",
    "def model_2(input_dim,output_dim, learRate=0.0025):\n",
    "    model = Sequential()\n",
    "    model.add(Dense(128, input_shape=(input_dim,)))\n",
    "    model.add(PReLU())\n",
    "    model.add(Dropout(0.25))\n",
    "    model.add(Dense(output_dim))\n",
    "    model.add(Activation('softmax'))\n",
    "    model.compile(loss='categorical_crossentropy',\n",
    "                  optimizer='adam',\n",
    "                  metrics=['accuracy'])\n",
    "    return model\n",
    "\n",
    "nnmodels=10\n",
    "model_noev_list2=[]\n",
    "for i in range(nnmodels):\n",
    "    x_train, x_cv, y_train, y_cv = train_test_split(Xtrain_all, Ytrain_all, test_size=0.15, stratify=Ytrain_all,random_state=5*i)\n",
    "    y_train_cat=np_utils.to_categorical(y_train)\n",
    "    y_cv_cat=np_utils.to_categorical(y_cv)\n",
    "    model=model_2(x_train.shape[1],12)\n",
    "    model.fit(x_train, y_train_cat, batch_size=2500, epochs=100, verbose=0, validation_data=(x_cv, y_cv_cat),callbacks=[early_stop_1])\n",
    "    model_noev_list2.append(model)\n",
    "\n",
    "x_train, x_cv, y_train, y_cv = train_test_split(Xtrain_all, Ytrain_all, test_size=0.15, stratify=Ytrain_all,random_state=5*i)\n",
    "y_pred_nn_tr=np.zeros((x_train.shape[0],12))\n",
    "y_pred_nn_cv=np.zeros((x_cv.shape[0],12))\n",
    "for i in range(nnmodels):\n",
    "  y_pred_nn_tr=y_pred_nn_tr+model_noev_list2[i].predict_proba(x_train)\n",
    "  y_pred_nn_cv=y_pred_nn_cv+model_noev_list2[i].predict_proba(x_cv)\n",
    "y_pred_nn_tr=y_pred_nn_tr/nnmodels\n",
    "y_pred_nn_cv=y_pred_nn_cv/nnmodels\n",
    "log_loss_tr_nn2_noev=log_loss(y_train, y_pred_nn_tr)\n",
    "log_loss_cv_nn2_noev=log_loss(y_cv, y_pred_nn_cv)\n",
    "print('Neural Network 2:')\n",
    "print(\"/ntrain Log-Loss: \",log_loss_tr_nn2_noev)\n",
    "print(\"/nCV Log-Loss: \",log_loss_cv_nn2_noev)"
   ]
  },
  {
   "cell_type": "markdown",
   "metadata": {
    "id": "erWSv25hbBJp"
   },
   "source": [
    "#Pretty Table- No Events:"
   ]
  },
  {
   "cell_type": "code",
   "execution_count": null,
   "metadata": {
    "colab": {
     "base_uri": "https://localhost:8080/"
    },
    "id": "VVIvV45yLHfG",
    "outputId": "ca7b6bfa-4f0f-4c79-b65a-bd3456639672"
   },
   "outputs": [
    {
     "name": "stdout",
     "output_type": "stream",
     "text": [
      "+---------------------------+--------------------+\n",
      "| Models for No events Data |     CV Log-loss    |\n",
      "+---------------------------+--------------------+\n",
      "|    Logistic Regression    | 2.3558331330807096 |\n",
      "|        Naive Bayes        | 2.422916400063427  |\n",
      "|       Decision Tree       | 2.401737796174455  |\n",
      "|  Random Forest Classifier | 2.3577910059503533 |\n",
      "|      LGBM Classifier      | 2.3656119981467896 |\n",
      "|          XGBoost          | 2.358736080091337  |\n",
      "|          CatBoost         |  2.33154950622023  |\n",
      "|    Avg Neural Network1    | 2.355657268051587  |\n",
      "|    Avg Neural Network2    | 2.352753893698253  |\n",
      "+---------------------------+--------------------+\n"
     ]
    }
   ],
   "source": [
    "from prettytable import PrettyTable\n",
    "pt = PrettyTable()\n",
    "\n",
    "pt.field_names = [\"Models for No events Data\", \" CV Log-loss\"]\n",
    "pt.add_row([\"Logistic Regression\",  log_loss_cv_lr_noev])\n",
    "pt.add_row([\"Naive Bayes\",  log_loss_cv_nb_noev])\n",
    "pt.add_row([\"Decision Tree\",   log_loss_cv_dt_noev])\n",
    "pt.add_row([\"Random Forest Classifier\",  log_loss_cv_rf_noev ])\n",
    "pt.add_row([\"LGBM Classifier\",  log_loss_cv_lgbm_noev])\n",
    "pt.add_row([\"XGBoost\", log_loss_cv_xgb_noev])\n",
    "pt.add_row([\"CatBoost\", log_loss_cv_cat_noev])\n",
    "pt.add_row([\"Avg Neural Network1\",  log_loss_cv_nn1_noev])\n",
    "pt.add_row([\"Avg Neural Network2\", log_loss_cv_nn2_noev])\n",
    "\n",
    "print(pt)"
   ]
  },
  {
   "cell_type": "markdown",
   "metadata": {
    "id": "Ez-G8vOwbiV1"
   },
   "source": [
    "Observation:\n",
    "CatBoost ,Avg NN1 & Avg NN2 models can be used for best results"
   ]
  },
  {
   "cell_type": "markdown",
   "metadata": {
    "id": "8czV5gh2bz0_"
   },
   "source": []
  },
  {
   "cell_type": "markdown",
   "metadata": {
    "id": "6FG8DxNuBoZs"
   },
   "source": [
    "# **Models on Data with Events**"
   ]
  },
  {
   "cell_type": "code",
   "execution_count": null,
   "metadata": {
    "id": "xPavXM_b7ssU"
   },
   "outputs": [],
   "source": [
    "# train test split\n",
    "from sklearn.model_selection import train_test_split\n",
    "x_train, x_cv, y_train, y_cv = train_test_split(Xtrain_events, Ytrain_events, test_size=0.15, stratify=Ytrain_events,random_state=10)"
   ]
  },
  {
   "cell_type": "markdown",
   "metadata": {
    "id": "EKoj66Cz7eX8"
   },
   "source": [
    "#Appplying LogisticRegression"
   ]
  },
  {
   "cell_type": "code",
   "execution_count": null,
   "metadata": {
    "colab": {
     "base_uri": "https://localhost:8080/"
    },
    "id": "IwHoPAzO7eYI",
    "outputId": "769ae5b3-a4bc-4047-8368-51ded924598a"
   },
   "outputs": [
    {
     "name": "stdout",
     "output_type": "stream",
     "text": [
      "cv log_loss for alpha= 0.0001 is 2.32156962940258\n",
      "cv log_loss for alpha= 0.001 is 2.1340713442058856\n",
      "cv log_loss for alpha= 0.01 is 1.9935984109023066\n",
      "cv log_loss for alpha= 0.1 is 2.0781726522966726\n",
      "cv log_loss for alpha= 1 is 2.55207131754736\n",
      "cv log_loss for alpha= 10 is 2.640583966899126\n",
      "cv log_loss for alpha= 100 is 2.508869176428856\n",
      "\n",
      "Best Values -Logistic Regression\n",
      "\n",
      "train log_loss for C= 1000 is 1.7967167908853385\n",
      "cv log_loss for C= 1000 is 1.9935984109023066\n"
     ]
    }
   ],
   "source": [
    "#Appplying LogisticRegression:\n",
    "#Hyper parameter Tuning:\n",
    "C_values = [0.0001,0.001,0.01,0.1,1,10,100]\n",
    "log_loss_list_tr = []\n",
    "log_loss_list_cv = []\n",
    "for i in C_values:\n",
    "    clf_lr_ev = LogisticRegression(C=i,random_state=10)\n",
    "    clf_lr_ev.fit(x_train,y_train)\n",
    "    log_loss_tr_lr=log_loss(y_train,clf_lr_ev.predict_proba(x_train))\n",
    "    log_loss_cv_lr=log_loss(y_cv,clf_lr_ev.predict_proba(x_cv))\n",
    "    log_loss_list_tr.append(log_loss_tr_lr)\n",
    "    log_loss_list_cv.append(log_loss_cv_lr)\n",
    "    print('cv log_loss for alpha=',i,'is',log_loss_cv_lr)\n",
    "\n",
    "best_C = C_values[np.argmin(log_loss_list_cv)]\n",
    "clf_lr_ev = LogisticRegression(C=best_C,random_state=10)\n",
    "clf_lr_ev.fit(x_train,y_train)\n",
    "y_pred_tr=clf_lr_ev.predict_proba(x_train)\n",
    "y_pred_cv=clf_lr_ev.predict_proba(x_cv)\n",
    "log_loss_tr_lr_ev=log_loss(y_train,clf_lr_ev.predict_proba(x_train))\n",
    "log_loss_cv_lr_ev=log_loss(y_cv,clf_lr_ev.predict_proba(x_cv))\n",
    "print('\\nBest Values -Logistic Regression')\n",
    "print('\\ntrain log_loss for C=',best_alpha,'is',log_loss_tr_lr_ev)\n",
    "print('cv log_loss for C=',best_alpha,'is',log_loss_cv_lr_ev)"
   ]
  },
  {
   "cell_type": "markdown",
   "metadata": {
    "id": "-4eGUuEX7eYL"
   },
   "source": [
    "#Applying Decision Tree"
   ]
  },
  {
   "cell_type": "code",
   "execution_count": null,
   "metadata": {
    "colab": {
     "base_uri": "https://localhost:8080/"
    },
    "id": "bh9L26977eYM",
    "outputId": "778685f8-3c8f-4508-8204-6e093b9bc714"
   },
   "outputs": [
    {
     "name": "stdout",
     "output_type": "stream",
     "text": [
      "Heatmap for log_loss values Train data\n"
     ]
    },
    {
     "data": {
      "image/png": "[encoded data removed]",
      "text/plain": [
       "<Figure size 432x288 with 2 Axes>"
      ]
     },
     "metadata": {
      "needs_background": "light",
      "tags": []
     },
     "output_type": "display_data"
    },
    {
     "name": "stdout",
     "output_type": "stream",
     "text": [
      "\n",
      "Heatmap for log_loss values CV data\n"
     ]
    },
    {
     "data": {
      "image/png": "[encoded data removed]",
      "text/plain": [
       "<Figure size 432x288 with 2 Axes>"
      ]
     },
     "metadata": {
      "needs_background": "light",
      "tags": []
     },
     "output_type": "display_data"
    },
    {
     "name": "stdout",
     "output_type": "stream",
     "text": [
      "\n",
      "Best Values for Decision Trees\n",
      "\n",
      "train log_loss for max_depth= 5 ,min_samples_split= 1000 is 2.280690324495666\n",
      "cv log_loss for max_depth= 5 ,min_samples_split= 1000 is 2.3026686719467886\n"
     ]
    }
   ],
   "source": [
    "#Applying Decision Tree\n",
    "#Hyper parameter Tuning:\n",
    "\n",
    "max_depth_list=[1, 5, 10,25, 50]\n",
    "min_split_list=[5, 10, 100, 500,1000]\n",
    "log_loss_list_tr = []\n",
    "log_loss_list_cv = []\n",
    "for i in min_split_list:\n",
    "  for j in max_depth_list:\n",
    "    clf_dt_ev = DecisionTreeClassifier(max_depth=j,min_samples_split=i,random_state=10)\n",
    "    clf_dt_ev.fit(x_train,y_train)\n",
    "    y_pred_tr=clf_dt_ev.predict_proba(x_train)\n",
    "    y_pred_cv=clf_dt_ev.predict_proba(x_cv)\n",
    "    log_loss_tr_dt=log_loss(y_train,y_pred_tr)\n",
    "    log_loss_cv_dt=log_loss(y_cv,y_pred_cv)\n",
    "    log_loss_list_tr.append(log_loss_tr_dt)\n",
    "    log_loss_list_cv.append(log_loss_cv_dt)\n",
    "\n",
    "\n",
    "#representing Log_Loss values in HEat Maps\n",
    "sbn_log_loss_tr=np.reshape(log_loss_list_tr,(5,5))\n",
    "sbn_log_loss_cv=np.reshape(log_loss_list_cv,(5,5))\n",
    "import seaborn as sns\n",
    "xticks=[1,5,10,25,50]\n",
    "yticks=[5, 10, 100,500,1000]\n",
    "\n",
    "print('Heatmap for log_loss values Train data')\n",
    "heat_map_cv = sns.heatmap(sbn_log_loss_tr, annot=True,yticklabels=yticks,xticklabels=xticks,fmt='.5f')\n",
    "plt.xlabel('max_depth_list')\n",
    "plt.ylabel('min_split_list')\n",
    "plt.show()\n",
    "\n",
    "print('\\nHeatmap for log_loss values CV data')\n",
    "heat_map_cv = sns.heatmap(sbn_log_loss_cv, annot=True,yticklabels=yticks,xticklabels=xticks,fmt='.5f')\n",
    "plt.xlabel('max_depth_list')\n",
    "plt.ylabel('min_split_list')\n",
    "plt.show()\n",
    "\n",
    "\n",
    "best_max_depth=5\n",
    "best_min_samples_split=1000\n",
    "\n",
    "clf_dt_ev = DecisionTreeClassifier(max_depth=best_max_depth,min_samples_split=best_min_samples_split,random_state=10)\n",
    "clf_dt_ev.fit(x_train,y_train)\n",
    "y_pred_tr=clf_dt_ev.predict_proba(x_train)\n",
    "y_pred_cv=clf_dt_ev.predict_proba(x_cv)\n",
    "log_loss_tr_dt_ev=log_loss(y_train,y_pred_tr)\n",
    "log_loss_cv_dt_ev=log_loss(y_cv,y_pred_cv)\n",
    "print('\\nBest Values for Decision Trees')\n",
    "print('\\ntrain log_loss for max_depth=',best_max_depth,',min_samples_split=',best_min_samples_split,'is',log_loss_tr_dt_ev)\n",
    "print('cv log_loss for max_depth=',best_max_depth,',min_samples_split=',best_min_samples_split,'is',log_loss_cv_dt_ev)"
   ]
  },
  {
   "cell_type": "markdown",
   "metadata": {
    "id": "BOH4d3Vo7eYM"
   },
   "source": [
    "#Applying Random Forest Classifier"
   ]
  },
  {
   "cell_type": "code",
   "execution_count": null,
   "metadata": {
    "colab": {
     "base_uri": "https://localhost:8080/",
     "height": 679
    },
    "id": "t3i0JpE57eYN",
    "outputId": "721ca5ee-1a95-473c-a565-004570b61b1c"
   },
   "outputs": [
    {
     "name": "stdout",
     "output_type": "stream",
     "text": [
      "\n",
      "Heatmap for log_loss values Train data\n"
     ]
    },
    {
     "data": {
      "image/png": "[encoded data removed]",
      "text/plain": [
       "<Figure size 432x288 with 2 Axes>"
      ]
     },
     "metadata": {
      "needs_background": "light",
      "tags": []
     },
     "output_type": "display_data"
    },
    {
     "name": "stdout",
     "output_type": "stream",
     "text": [
      "\n",
      "Heatmap for log_loss values Cv data\n"
     ]
    },
    {
     "data": {
      "image/png": "[encoded data removed]",
      "text/plain": [
       "<Figure size 432x288 with 2 Axes>"
      ]
     },
     "metadata": {
      "needs_background": "light",
      "tags": []
     },
     "output_type": "display_data"
    },
    {
     "name": "stdout",
     "output_type": "stream",
     "text": [
      "Best Values-Random Forest:\n",
      "\n",
      "train log_loss for max_depth= 50 ,min_samples_split= 10 is 1.0979733950131434\n",
      "cv log_loss for max_depth= 50 ,min_samples_split= 10 is 2.1647350644311887\n"
     ]
    }
   ],
   "source": [
    "\n",
    "from sklearn.ensemble import RandomForestClassifier\n",
    "log_loss_list_tr = []\n",
    "log_loss_list_cv = []\n",
    "#Hyper parameter Tuning:\n",
    "\n",
    "max_depth_list=[1, 5, 10, 50]\n",
    "min_split_list=[5, 10, 100, 500]\n",
    "for i in min_split_list:\n",
    "  for j in max_depth_list:\n",
    "    clf_rf_ev = RandomForestClassifier(max_depth=j,min_samples_split=i,random_state=10)\n",
    "    clf_rf_ev.fit(x_train,y_train)\n",
    "    y_pred_tr=clf_rf_ev.predict_proba(x_train)\n",
    "    y_pred_cv=clf_rf_ev.predict_proba(x_cv)\n",
    "    log_loss_tr_rf=log_loss(y_train,y_pred_tr)\n",
    "    log_loss_cv_rf=log_loss(y_cv,y_pred_cv)\n",
    "    log_loss_list_tr.append(log_loss_tr_rf)\n",
    "    log_loss_list_cv.append(log_loss_cv_rf)\n",
    "\n",
    "#representing Log_Loss values in HEat Maps\n",
    "sbn_log_loss_tr=np.reshape(log_loss_list_tr,(4,4))\n",
    "sbn_log_loss_cv=np.reshape(log_loss_list_cv,(4,4))\n",
    "import seaborn as sns\n",
    "xticks=[1,5,10,50]\n",
    "yticks=[5, 10, 100, 500]\n",
    "print('\\nHeatmap for log_loss values Train data')\n",
    "heat_map_cv = sns.heatmap(sbn_log_loss_tr, annot=True,yticklabels=yticks,xticklabels=xticks,fmt='.5f')\n",
    "plt.xlabel('max_depth_list')\n",
    "plt.ylabel('min_split_list')\n",
    "plt.show()\n",
    "print('\\nHeatmap for log_loss values Cv data')\n",
    "heat_map_cv = sns.heatmap(sbn_log_loss_cv, annot=True,yticklabels=yticks,xticklabels=xticks,fmt='.5f')\n",
    "plt.xlabel('max_depth_list')\n",
    "plt.ylabel('min_split_list')\n",
    "plt.show()\n",
    "best_max_depth=50\n",
    "best_min_samples_split=10\n",
    "\n",
    "clf_rf_ev = RandomForestClassifier(max_depth=best_max_depth,min_samples_split=best_min_samples_split,random_state=10)\n",
    "clf_rf_ev.fit(x_train,y_train)\n",
    "y_pred_tr=clf_rf_ev.predict_proba(x_train)\n",
    "y_pred_cv=clf_rf_ev.predict_proba(x_cv)\n",
    "log_loss_tr_rf_ev=log_loss(y_train,y_pred_tr)\n",
    "log_loss_cv_rf_ev=log_loss(y_cv,y_pred_cv)\n",
    "print('Best Values-Random Forest:')\n",
    "print('\\ntrain log_loss for max_depth=',best_max_depth,',min_samples_split=',best_min_samples_split,'is',log_loss_tr_rf_ev)\n",
    "print('cv log_loss for max_depth=',best_max_depth,',min_samples_split=',best_min_samples_split,'is',log_loss_cv_rf_ev)\n"
   ]
  },
  {
   "cell_type": "markdown",
   "metadata": {
    "id": "9JTfRxIt7eYN"
   },
   "source": [
    "#Applying LGBM Classifier"
   ]
  },
  {
   "cell_type": "code",
   "execution_count": null,
   "metadata": {
    "colab": {
     "base_uri": "https://localhost:8080/"
    },
    "id": "M5vO3JeY7eYO",
    "outputId": "1e24511a-03fc-4694-b4eb-da33e209ab19"
   },
   "outputs": [
    {
     "name": "stdout",
     "output_type": "stream",
     "text": [
      "cv log_loss for estimator= 10 is 2.2486000640619586\n",
      "cv log_loss for estimator= 50 is 2.0821114025264444\n",
      "cv log_loss for estimator= 100 is 2.0308773464290577\n",
      "cv log_loss for estimator= 350 is 2.0545047119888795\n",
      "cv log_loss for estimator= 400 is 2.0694064406435486\n",
      "cv log_loss for estimator= 500 is 2.1063469902403686\n",
      "Best Values-LGBM Classifier\n",
      "\n",
      " Train log_loss for estimator= 100 is 1.275642050075685\n",
      "cv log_loss for estimator= 100 is 2.0308773464290577\n"
     ]
    }
   ],
   "source": [
    "import matplotlib.pyplot as plt\n",
    "from tqdm import tqdm\n",
    "from lightgbm import LGBMClassifier\n",
    "\n",
    "log_loss_list_tr = []\n",
    "log_loss_list_cv = []\n",
    "#Hyper parameter Tuning:\n",
    "n_est=[10,50,100,350,400,500]\n",
    "for i in n_est:\n",
    "    #clf=CatBoostClassifier(n_estimators=i,learning_rate=0.05, colsample_bytree=0.7, max_depth=5,subsample=0.7,objective='multi:softprob',num_class=12,eval_metric='mlogloss')\n",
    "    clf=LGBMClassifier(verbose=0, n_estimators=i,random_state=10)\n",
    "    clf.fit(x_train, y_train)\n",
    "    y_pred_tr=clf.predict_proba(x_train)\n",
    "    y_pred_cv=clf.predict_proba(x_cv)\n",
    "    log_loss_tr=log_loss(y_train,y_pred_tr)\n",
    "    log_loss_cv=log_loss(y_cv,y_pred_cv)\n",
    "    log_loss_list_tr.append(log_loss_tr)\n",
    "    log_loss_list_cv.append(log_loss_cv)\n",
    "    #print('\\ntrain log_loss for alpha=',i,'is',log_loss_tr)\n",
    "    print('cv log_loss for estimator=',i,'is',log_loss_cv)\n",
    "\n",
    "best_est = n_est[np.argmin(log_loss_list_cv)]\n",
    "\n",
    "#clf=CatBoostClassifier(n_estimators=i,learning_rate=0.05, colsample_bytree=0.7, max_depth=5,subsample=0.7,objective='multi:softprob',num_class=12,eval_metric='mlogloss')\n",
    "clf=LGBMClassifier(verbose=0, n_estimators=best_est,random_state=10)\n",
    "clf.fit(x_train, y_train)\n",
    "y_pred_tr=clf.predict_proba(x_train)\n",
    "y_pred_cv=clf.predict_proba(x_cv)\n",
    "log_loss_tr_lgbm_ev=log_loss(y_train,y_pred_tr)\n",
    "log_loss_cv_lgbm_ev=log_loss(y_cv,y_pred_cv)\n",
    "print('Best Values-LGBM Classifier')\n",
    "print('\\n Train log_loss for estimator=',best_est,'is',log_loss_tr_lgbm_ev)\n",
    "print('cv log_loss for estimator=',best_est,'is',log_loss_cv_lgbm_ev)"
   ]
  },
  {
   "cell_type": "markdown",
   "metadata": {
    "id": "QJ9YL3pU7eYO"
   },
   "source": [
    "# Applying XGBoost:"
   ]
  },
  {
   "cell_type": "code",
   "execution_count": null,
   "metadata": {
    "colab": {
     "base_uri": "https://localhost:8080/"
    },
    "id": "I-eTnNJJ7eYP",
    "outputId": "6c081b43-8f03-49dd-a141-d8f8ae2cc967"
   },
   "outputs": [
    {
     "name": "stdout",
     "output_type": "stream",
     "text": [
      "CV log_loss for estimator= 10 is 2.3664308008821755\n",
      "CV log_loss for estimator= 50 is 2.1847290227779292\n",
      "CV log_loss for estimator= 100 is 2.1103416782278384\n",
      "CV log_loss for estimator= 350 is 2.0207619267103842\n",
      "CV log_loss for estimator= 400 is 2.0157790263853212\n",
      "CV log_loss for estimator= 500 is 2.0092254981892874\n",
      "/nBest Values-XGBoost\n",
      "\n",
      "train log_loss for alpha= 1000 is 1.1579574241689596\n",
      "cv log_loss for alpha= 1000 is 2.0092254981892874\n"
     ]
    }
   ],
   "source": [
    "#Applying XGBoost\n",
    "from xgboost import XGBClassifier\n",
    "#Hyper parameter Tuning:\n",
    "n_est=[10,50,100,350,400,500]\n",
    "log_loss_list_tr = []\n",
    "log_loss_list_cv = []\n",
    "for i in n_est:\n",
    "    clf_xgb_ev=XGBClassifier(n_estimators=i,n_jobs=-1,learning_rate=0.05, colsample_bytree=0.7, max_depth=5,subsample=0.7,objective='multi:softprob',num_class=12,eval_metric='mlogloss')\n",
    "    clf_xgb_ev.fit(x_train, y_train)\n",
    "    y_pred_tr=clf_xgb_ev.predict_proba(x_train)\n",
    "    y_pred_cv=clf_xgb_ev.predict_proba(x_cv)\n",
    "    log_loss_tr=log_loss(y_train,y_pred_tr)\n",
    "    log_loss_cv=log_loss(y_cv,y_pred_cv)\n",
    "    log_loss_list_tr.append(log_loss_tr)\n",
    "    log_loss_list_cv.append(log_loss_cv)\n",
    "    print('CV log_loss for estimator=',i,'is',log_loss_cv)\n",
    "\n",
    "best_estimator = n_est[np.argmin(log_loss_list_cv)]\n",
    "\n",
    "clf_xgb_ev=XGBClassifier(n_estimators=best_estimator,n_jobs=-1,learning_rate=0.05, colsample_bytree=0.7, max_depth=5,subsample=0.7,objective='multi:softprob',num_class=12,eval_metric='mlogloss')\n",
    "clf_xgb_ev.fit(x_train, y_train)\n",
    "y_pred_tr=clf_xgb_ev.predict_proba(x_train)\n",
    "y_pred_cv=clf_xgb_ev.predict_proba(x_cv)\n",
    "log_loss_tr_xgb_ev=log_loss(y_train,y_pred_tr)\n",
    "log_loss_cv_xgb_ev=log_loss(y_cv,y_pred_cv)\n",
    "print('/nBest Values-XGBoost')\n",
    "print('\\ntrain log_loss for alpha=',best_alpha,'is',log_loss_tr_xgb_ev)\n",
    "print('cv log_loss for alpha=',best_alpha,'is',log_loss_cv_xgb_ev)\n",
    "\n",
    "\n"
   ]
  },
  {
   "cell_type": "markdown",
   "metadata": {
    "id": "xRJj6vpGK-4x"
   },
   "source": [
    "#Applying CatBoost"
   ]
  },
  {
   "cell_type": "code",
   "execution_count": null,
   "metadata": {
    "colab": {
     "base_uri": "https://localhost:8080/"
    },
    "id": "BeMYfG_m-Mgt",
    "outputId": "841756a8-fea7-4407-ff3b-8c31b97055e9"
   },
   "outputs": [
    {
     "name": "stderr",
     "output_type": "stream",
     "text": [
      "Warning: less than 75% gpu memory available for training. Free: 11713.75 Total: 16280.875\n"
     ]
    },
    {
     "name": "stdout",
     "output_type": "stream",
     "text": [
      "cv log_loss for estimator= 50 is 2.0448126619936575\n"
     ]
    },
    {
     "name": "stderr",
     "output_type": "stream",
     "text": [
      "Warning: less than 75% gpu memory available for training. Free: 11713.75 Total: 16280.875\n"
     ]
    },
    {
     "name": "stdout",
     "output_type": "stream",
     "text": [
      "cv log_loss for estimator= 100 is 2.033606300232809\n"
     ]
    },
    {
     "name": "stderr",
     "output_type": "stream",
     "text": [
      "Warning: less than 75% gpu memory available for training. Free: 11713.75 Total: 16280.875\n"
     ]
    },
    {
     "name": "stdout",
     "output_type": "stream",
     "text": [
      "cv log_loss for estimator= 500 is 2.000260744994612\n"
     ]
    },
    {
     "name": "stderr",
     "output_type": "stream",
     "text": [
      "Warning: less than 75% gpu memory available for training. Free: 11713.75 Total: 16280.875\n"
     ]
    },
    {
     "name": "stdout",
     "output_type": "stream",
     "text": [
      "cv log_loss for estimator= 1000 is 1.9866995252005257\n"
     ]
    },
    {
     "name": "stderr",
     "output_type": "stream",
     "text": [
      "Warning: less than 75% gpu memory available for training. Free: 11713.75 Total: 16280.875\n"
     ]
    },
    {
     "name": "stdout",
     "output_type": "stream",
     "text": [
      "cv log_loss for estimator= 5000 is 1.9757513326122065\n"
     ]
    },
    {
     "name": "stderr",
     "output_type": "stream",
     "text": [
      "Warning: less than 75% gpu memory available for training. Free: 11713.75 Total: 16280.875\n"
     ]
    },
    {
     "name": "stdout",
     "output_type": "stream",
     "text": [
      "cv log_loss for estimator= 10000 is 1.9711458073791572\n"
     ]
    },
    {
     "name": "stderr",
     "output_type": "stream",
     "text": [
      "Warning: less than 75% gpu memory available for training. Free: 11713.75 Total: 16280.875\n"
     ]
    },
    {
     "name": "stdout",
     "output_type": "stream",
     "text": [
      "\n",
      " best values -CatBoost\n",
      "\n",
      "Train log_loss for estimator= 10000 is 1.6182983563982503\n",
      "CV log_loss for estimator= 10000 is 1.9711458073791572\n"
     ]
    }
   ],
   "source": [
    "import matplotlib.pyplot as plt\n",
    "from tqdm import tqdm\n",
    "from catboost import CatBoostClassifier\n",
    "log_loss_list_tr = []\n",
    "log_loss_list_cv = []\n",
    "#Hyper parameter Tuning:\n",
    "n_est=[50,100,500,1000,5000,10000]\n",
    "for i in n_est:\n",
    "    clf2=CatBoostClassifier(verbose=0, iterations=i,task_type=\"GPU\")\n",
    "    clf2.fit(x_train, y_train)\n",
    "    y_pred_tr=clf2.predict_proba(x_train)\n",
    "    y_pred_cv=clf2.predict_proba(x_cv)\n",
    "    log_loss_tr=log_loss(y_train,y_pred_tr)\n",
    "    log_loss_cv=log_loss(y_cv,y_pred_cv)\n",
    "    log_loss_list_tr.append(log_loss_tr)\n",
    "    log_loss_list_cv.append(log_loss_cv)\n",
    "    #print('\\ntrain log_loss for alpha=',i,'is',log_loss_tr)\n",
    "    print('cv log_loss for estimator=',i,'is',log_loss_cv)\n",
    "\n",
    "best_est = n_est[np.argmin(log_loss_list_cv)]\n",
    "clf_cat_ev=CatBoostClassifier(verbose=0, iterations=best_est,task_type=\"GPU\")\n",
    "clf_cat_ev.fit(x_train, y_train)\n",
    "\n",
    "y_pred_tr=clf2.predict_proba(x_train)\n",
    "y_pred_cv=clf2.predict_proba(x_cv)\n",
    "log_loss_tr_cat_ev=log_loss(y_train,y_pred_tr)\n",
    "log_loss_cv_cat_ev=log_loss(y_cv,y_pred_cv)\n",
    "print('\\n best values -CatBoost' )\n",
    "print('\\nTrain log_loss for estimator=',best_est,'is',log_loss_tr_cat_ev)\n",
    "print('CV log_loss for estimator=',best_est,'is',log_loss_cv_cat_ev)"
   ]
  },
  {
   "cell_type": "markdown",
   "metadata": {
    "id": "FiP9fK7e8vxf"
   },
   "source": [
    "#Applying NN1"
   ]
  },
  {
   "cell_type": "code",
   "execution_count": null,
   "metadata": {
    "colab": {
     "base_uri": "https://localhost:8080/"
    },
    "id": "RajxGsCAHh0q",
    "outputId": "de28bbbb-b1fd-425c-ece2-c026090497fa"
   },
   "outputs": [
    {
     "name": "stdout",
     "output_type": "stream",
     "text": [
      "\n",
      "Neural Network1:\n",
      "\n",
      "Train Log-Loss:  1.455256971434226\n",
      "CV Log-Loss:  1.5385117433148292\n"
     ]
    }
   ],
   "source": [
    "import tensorflow as tf\n",
    "from keras.callbacks import EarlyStopping,TensorBoard\n",
    "early_stop_1=EarlyStopping(monitor='val_loss',patience=3,restore_best_weights=True)\n",
    "from keras.models import Sequential\n",
    "from keras.layers import Dense, Dropout, Activation, BatchNormalization,Input,PReLU\n",
    "from keras.utils import np_utils\n",
    "from keras.optimizers import Adam\n",
    "from keras.models import Model\n",
    "from keras.optimizers import Adagrad\n",
    "from numpy.random import seed\n",
    "import tensorflow as tf\n",
    "\n",
    "def model_1(input_shape):\n",
    "    model = Sequential()\n",
    "    model.add(Dense(256, input_dim=input_shape))\n",
    "    model.add(PReLU())\n",
    "    model.add(BatchNormalization())\n",
    "    model.add(Dropout(0.5))\n",
    "    model.add(Dense(64))\n",
    "    model.add(PReLU())\n",
    "    model.add(BatchNormalization())\n",
    "    model.add(Dropout(0.5))\n",
    "    model.add(Dense(12))\n",
    "    model.add(Activation('softmax'))\n",
    "    model.compile(loss='categorical_crossentropy',\n",
    "              optimizer='adam',\n",
    "              metrics=['accuracy'])\n",
    "    return model\n",
    "\n",
    "nnmodels=10\n",
    "model_ev_list1=[]\n",
    "for i in range(nnmodels):\n",
    "    x_train, x_cv, y_train, y_cv = train_test_split(Xtrain_events, Ytrain_events, test_size=0.15, stratify=Ytrain_events,random_state=5*i)\n",
    "    y_train_cat=np_utils.to_categorical(y_train)\n",
    "    y_cv_cat=np_utils.to_categorical(y_cv)\n",
    "    model=model_1(x_train.shape[1])\n",
    "    model.fit(x_train, y_train_cat, batch_size=1000, epochs=25, verbose=0, validation_data=(x_cv, y_cv_cat),callbacks=[early_stop_1])\n",
    "    model_ev_list1.append(model)\n",
    "x_train, x_cv, y_train, y_cv = train_test_split(Xtrain_events, Ytrain_events, test_size=0.15, stratify=Ytrain_events,random_state=10)\n",
    "y_pred_nn_tr=np.zeros((x_train.shape[0],12))\n",
    "y_pred_nn_cv=np.zeros((x_cv.shape[0],12))\n",
    "\n",
    "for i in range(nnmodels):\n",
    "  y_pred_nn_tr=y_pred_nn_tr+model_ev_list1[i].predict_proba(x_train)\n",
    "  y_pred_nn_cv=y_pred_nn_cv+model_ev_list1[i].predict_proba(x_cv)\n",
    "y_pred_nn_tr=y_pred_nn_tr/nnmodels\n",
    "y_pred_nn_cv=y_pred_nn_cv/nnmodels\n",
    "\n",
    "log_loss_tr_nn1_ev=log_loss(y_train,y_pred_nn_tr)\n",
    "log_loss_cv_nn1_ev=log_loss(y_cv,y_pred_nn_cv)\n",
    "\n",
    "\n",
    "print('\\nNeural Network1:')\n",
    "print(\"\\nTrain Log-Loss: \",log_loss_tr_nn1_ev)\n",
    "print(\"CV Log-Loss: \",log_loss_cv_nn1_ev )\n"
   ]
  },
  {
   "cell_type": "markdown",
   "metadata": {
    "id": "17BBng0EiUcR"
   },
   "source": [
    "#Applying Neural Network2"
   ]
  },
  {
   "cell_type": "code",
   "execution_count": null,
   "metadata": {
    "colab": {
     "base_uri": "https://localhost:8080/"
    },
    "id": "6j806bCFWvs-",
    "outputId": "e3c35132-d018-428c-b8fe-19e90e2d8eba"
   },
   "outputs": [
    {
     "name": "stdout",
     "output_type": "stream",
     "text": [
      "\n",
      "Neural Network2:\n",
      "\n",
      "Train Log-Loss:  1.5942675110089934\n",
      "CV Log-Loss:  1.6185869759655205\n"
     ]
    }
   ],
   "source": [
    "import tensorflow as tf\n",
    "from keras.callbacks import EarlyStopping,TensorBoard\n",
    "early_stop_1=EarlyStopping(monitor='val_loss',patience=4,restore_best_weights=True)\n",
    "from keras.models import Sequential\n",
    "from keras.layers import Dense, Dropout, Activation, BatchNormalization,Input,PReLU\n",
    "from keras.utils import np_utils\n",
    "from keras.optimizers import Adam\n",
    "from keras.models import Model\n",
    "from keras.optimizers import Adagrad\n",
    "\n",
    "\n",
    "def model_2(input_dim,output_dim, learRate=0.0025):\n",
    "    model = Sequential()\n",
    "    model.add(Dense(512, input_shape=(input_dim,)))\n",
    "    model.add(PReLU())\n",
    "    model.add(Dropout(0.5))\n",
    "    model.add(Dense(output_dim))\n",
    "    model.add(Activation('softmax'))\n",
    "    model.compile(loss='categorical_crossentropy',\n",
    "                  optimizer='adam',\n",
    "                  metrics=['accuracy'])\n",
    "    return model\n",
    "\n",
    "nnmodels=20\n",
    "model_ev_list2=[]\n",
    "avg_cv_loss=0\n",
    "for i in range(nnmodels):\n",
    "    x_train, x_cv, y_train, y_cv = train_test_split(Xtrain_events, Ytrain_events, test_size=0.15, stratify=Ytrain_events,random_state=5*i)\n",
    "    y_train_cat=np_utils.to_categorical(y_train)\n",
    "    y_cv_cat=np_utils.to_categorical(y_cv)\n",
    "    model=model_2(x_train.shape[1],12)\n",
    "    model.fit(x_train, y_train_cat, batch_size=500, epochs=100, verbose=0, validation_data=(x_cv, y_cv_cat),callbacks=[early_stop_1])\n",
    "    model_ev_list2.append(model)\n",
    "    \n",
    "nnmodels=20\n",
    "x_train, x_cv, y_train, y_cv = train_test_split(Xtrain_events, Ytrain_events, test_size=0.15, stratify=Ytrain_events,random_state=5*i)\n",
    "y_pred_nn_tr=np.zeros((x_train.shape[0],12))\n",
    "y_pred_nn_cv=np.zeros((x_cv.shape[0],12))\n",
    "for i in range(nnmodels):\n",
    "  y_pred_nn_tr=y_pred_nn_tr+model_ev_list2[i].predict_proba(x_train)\n",
    "  y_pred_nn_cv=y_pred_nn_cv+model_ev_list2[i].predict_proba(x_cv)\n",
    "y_pred_nn_tr=y_pred_nn_tr/nnmodels\n",
    "y_pred_nn_cv=y_pred_nn_cv/nnmodels\n",
    "\n",
    "log_loss_tr_nn2_ev=log_loss(y_train,y_pred_nn_tr)\n",
    "log_loss_cv_nn2_ev=log_loss(y_cv,y_pred_nn_cv)\n",
    "\n",
    "print('\\nNeural Network2:')\n",
    "print(\"\\nTrain Log-Loss: \",log_loss_tr_nn2_ev)\n",
    "print(\"CV Log-Loss: \",log_loss_cv_nn2_ev)"
   ]
  },
  {
   "cell_type": "markdown",
   "metadata": {
    "id": "fUxcSyknuBdr"
   },
   "source": [
    "#Pretty Table-Events:"
   ]
  },
  {
   "cell_type": "code",
   "execution_count": null,
   "metadata": {
    "id": "Hh-b0kaJc-T1"
   },
   "outputs": [],
   "source": [
    "log_loss_cv_lr_ev=1.9935984109023066\n",
    "log_loss_cv_dt_ev=2.3026686719467886\n",
    "log_loss_cv_rf_ev=2.1647350644311887\n",
    "log_loss_cv_lgbm_ev=2.0308773464290577\n",
    "log_loss_cv_xgb_ev=2.0092254981892874\n",
    "log_loss_cv_cat_ev=1.9711458073791572\n",
    "log_loss_cv_nn1_ev=1.5385117433148292\n",
    "log_loss_cv_nn2_ev=1.6185869759655205\n"
   ]
  },
  {
   "cell_type": "code",
   "execution_count": null,
   "metadata": {
    "colab": {
     "base_uri": "https://localhost:8080/"
    },
    "id": "5QDqsI2DcQul",
    "outputId": "facf5cd1-6167-43fa-8af3-497d2d758947"
   },
   "outputs": [
    {
     "name": "stdout",
     "output_type": "stream",
     "text": [
      "+---------------------------+--------------------+\n",
      "| Models for No events Data |     CV Log-loss    |\n",
      "+---------------------------+--------------------+\n",
      "|    Logistic Regression    | 1.9935984109023066 |\n",
      "|       Decision Tree       | 2.3026686719467886 |\n",
      "|  Random Forest Classifier | 2.1647350644311887 |\n",
      "|      LGBM Classifier      | 2.0308773464290577 |\n",
      "|          XGBoost          | 2.0092254981892874 |\n",
      "|          CatBoost         | 1.9711458073791572 |\n",
      "|    Avg Neural Network1    | 1.5385117433148292 |\n",
      "|    Avg Neural Network2    | 1.6185869759655205 |\n",
      "+---------------------------+--------------------+\n"
     ]
    }
   ],
   "source": [
    "from prettytable import PrettyTable\n",
    "pt = PrettyTable()\n",
    "\n",
    "pt.field_names = [\"Models for No events Data\", \" CV Log-loss\"]\n",
    "pt.add_row([\"Logistic Regression\",  log_loss_cv_lr_ev])\n",
    "pt.add_row([\"Decision Tree\",   log_loss_cv_dt_ev])\n",
    "pt.add_row([\"Random Forest Classifier\",  log_loss_cv_rf_ev ])\n",
    "pt.add_row([\"LGBM Classifier\",  log_loss_cv_lgbm_ev])\n",
    "pt.add_row([\"XGBoost\", log_loss_cv_xgb_ev])\n",
    "pt.add_row([\"CatBoost\", log_loss_cv_cat_ev])\n",
    "pt.add_row([\"Avg Neural Network1\",  log_loss_cv_nn1_ev])\n",
    "pt.add_row([\"Avg Neural Network2\", log_loss_cv_nn2_ev])\n",
    "\n",
    "print(pt)"
   ]
  },
  {
   "cell_type": "markdown",
   "metadata": {
    "id": "TT1T0ohob1pI"
   },
   "source": [
    "Observation:\n",
    "CatBoost ,Avg NN1 & Avg NN2 models can be used for best results"
   ]
  },
  {
   "cell_type": "markdown",
   "metadata": {
    "id": "to3uh0B0xg83"
   },
   "source": [
    "#Applying Best Models on Test Data"
   ]
  },
  {
   "cell_type": "code",
   "execution_count": null,
   "metadata": {
    "id": "1Y97RLDgeh92"
   },
   "outputs": [],
   "source": [
    "#Loading data\n",
    "datadir = '/content/drive/MyDrive/Talkingdata_CS1/talkingdata-mobile-user-demographics/data/'\n",
    "gender_age_test = pd.read_csv(os.path.join(datadir,'gender_age_test.csv'))\n",
    "events_data = pd.read_csv(os.path.join(datadir,'events.csv'),parse_dates=['timestamp'], index_col='event_id')\n",
    "device_id_has_events=events_data.device_id.unique() \n",
    "gender_age_test['has_events']=gender_age_test.device_id.apply(lambda x:1 if x in device_id_has_events else 0)  \n",
    "gatest_has_events=gender_age_test.loc[gender_age_test['has_events']==1].drop(['has_events'],axis=1).set_index('device_id')\n",
    "gatest_has_noevents=gender_age_test.loc[gender_age_test['has_events']==0].drop(['has_events'],axis=1).set_index('device_id')\n",
    "\n",
    "gender_age_train = pd.read_csv(os.path.join(datadir,'gender_age_train.csv'),index_col='device_id')\n",
    "from sklearn.preprocessing import LabelEncoder\n",
    "y_encoder_ev=LabelEncoder().fit(gender_age_train.group)"
   ]
  },
  {
   "cell_type": "markdown",
   "metadata": {
    "id": "M5Zm5KSuO7u6"
   },
   "source": [
    "Predicting X_test data with Noevents:"
   ]
  },
  {
   "cell_type": "code",
   "execution_count": null,
   "metadata": {
    "id": "z61JJy-19wUA"
   },
   "outputs": [],
   "source": [
    "#using Avg NN1 model\n",
    "y_pred_nn1_noev=np.zeros((Xtest_noevents.shape[0], 12))\n",
    "for i in range(20):\n",
    "  y_pred_nn1_noev=y_pred_nn1_noev+model_noev_list1[i].predict_proba(Xtest_noevents)\n",
    "y_pred_nn1_noev=y_pred_nn1_noev/20"
   ]
  },
  {
   "cell_type": "code",
   "execution_count": null,
   "metadata": {
    "id": "fIRoccd8tMD7"
   },
   "outputs": [],
   "source": [
    "#using Avg NN2 model\n",
    "y_pred_nn2_noev=np.zeros((Xtest_noevents.shape[0], 12))\n",
    "for i in range(10):\n",
    "  y_pred_nn2_noev=y_pred_nn2_noev+model_noev_list2[i].predict_proba(Xtest_noevents)\n",
    "y_pred_nn2_noev=y_pred_nn2_noev/10"
   ]
  },
  {
   "cell_type": "code",
   "execution_count": null,
   "metadata": {
    "id": "-VjEjU6NQkXZ"
   },
   "outputs": [],
   "source": [
    "#Ensemble model1:\n",
    "w1=0.4\n",
    "w2=0.4\n",
    "w3=0.2\n",
    "Ytest_noevents_pred=w2*y_pred_nn1_noev +w1*clf_cat_noev.predict_proba(Xtest_noevents)+w3*y_pred_nn2_noev"
   ]
  },
  {
   "cell_type": "markdown",
   "metadata": {
    "id": "Xpbrff52O_3J"
   },
   "source": [
    "Predicting X_test with Events:"
   ]
  },
  {
   "cell_type": "code",
   "execution_count": null,
   "metadata": {
    "id": "tkcC_N0YVUB_"
   },
   "outputs": [],
   "source": [
    "#using Avg NN1 model\n",
    "y_pred_nn1_ev=np.zeros((Xtest_events.shape[0], 12))\n",
    "for i in range(10):\n",
    "  y_pred_nn1_ev=y_pred_nn1_ev+model_ev_list1[i].predict_proba(Xtest_events)\n",
    "y_pred_nn1_ev=y_pred_nn1_ev/10"
   ]
  },
  {
   "cell_type": "code",
   "execution_count": null,
   "metadata": {
    "id": "NkfVLghfxEHI"
   },
   "outputs": [],
   "source": [
    "#using Avg NN2 model\n",
    "y_pred_nn2_ev=np.zeros((Xtest_events.shape[0], 12))\n",
    "for i in range(20):\n",
    "  y_pred_nn2_ev=y_pred_nn2_ev+model_ev_list2[i].predict_proba(Xtest_events)\n",
    "y_pred_nn2_ev=y_pred_nn2_ev/20"
   ]
  },
  {
   "cell_type": "code",
   "execution_count": null,
   "metadata": {
    "id": "HYCOJ2rAzmrG"
   },
   "outputs": [],
   "source": [
    "#Ensemble model2:\n",
    "w1=0.1\n",
    "w2=0.1\n",
    "w3=0.8\n",
    "Ytest_events_pred=w2*y_pred_nn1_ev +w1*clf_cat_ev.predict_proba(Xtest_events)+w3*y_pred_nn2_ev"
   ]
  },
  {
   "cell_type": "markdown",
   "metadata": {
    "id": "7UDhDU-Q_UGc"
   },
   "source": [
    "Concatenating test data results"
   ]
  },
  {
   "cell_type": "code",
   "execution_count": null,
   "metadata": {
    "colab": {
     "base_uri": "https://localhost:8080/",
     "height": 227
    },
    "id": "rvrmIGjv9BEH",
    "outputId": "7f4b1fe5-889e-4742-f3bd-499d68e25b29"
   },
   "outputs": [
    {
     "data": {
      "text/html": [
       "<div>\n",
       "<style scoped>\n",
       "    .dataframe tbody tr th:only-of-type {\n",
       "        vertical-align: middle;\n",
       "    }\n",
       "\n",
       "    .dataframe tbody tr th {\n",
       "        vertical-align: top;\n",
       "    }\n",
       "\n",
       "    .dataframe thead th {\n",
       "        text-align: right;\n",
       "    }\n",
       "</style>\n",
       "<table border=\"1\" class=\"dataframe\">\n",
       "  <thead>\n",
       "    <tr style=\"text-align: right;\">\n",
       "      <th></th>\n",
       "      <th>F23-</th>\n",
       "      <th>F24-26</th>\n",
       "      <th>F27-28</th>\n",
       "      <th>F29-32</th>\n",
       "      <th>F33-42</th>\n",
       "      <th>F43+</th>\n",
       "      <th>M22-</th>\n",
       "      <th>M23-26</th>\n",
       "      <th>M27-28</th>\n",
       "      <th>M29-31</th>\n",
       "      <th>M32-38</th>\n",
       "      <th>M39+</th>\n",
       "    </tr>\n",
       "    <tr>\n",
       "      <th>device_id</th>\n",
       "      <th></th>\n",
       "      <th></th>\n",
       "      <th></th>\n",
       "      <th></th>\n",
       "      <th></th>\n",
       "      <th></th>\n",
       "      <th></th>\n",
       "      <th></th>\n",
       "      <th></th>\n",
       "      <th></th>\n",
       "      <th></th>\n",
       "      <th></th>\n",
       "    </tr>\n",
       "  </thead>\n",
       "  <tbody>\n",
       "    <tr>\n",
       "      <th>-5893464122623104785</th>\n",
       "      <td>0.041228</td>\n",
       "      <td>0.062194</td>\n",
       "      <td>0.041664</td>\n",
       "      <td>0.061885</td>\n",
       "      <td>0.056237</td>\n",
       "      <td>0.042204</td>\n",
       "      <td>0.079203</td>\n",
       "      <td>0.162216</td>\n",
       "      <td>0.097387</td>\n",
       "      <td>0.109660</td>\n",
       "      <td>0.144822</td>\n",
       "      <td>0.101301</td>\n",
       "    </tr>\n",
       "    <tr>\n",
       "      <th>-7560708697029818408</th>\n",
       "      <td>0.041228</td>\n",
       "      <td>0.062194</td>\n",
       "      <td>0.041664</td>\n",
       "      <td>0.061885</td>\n",
       "      <td>0.056237</td>\n",
       "      <td>0.042204</td>\n",
       "      <td>0.079203</td>\n",
       "      <td>0.162216</td>\n",
       "      <td>0.097387</td>\n",
       "      <td>0.109660</td>\n",
       "      <td>0.144822</td>\n",
       "      <td>0.101301</td>\n",
       "    </tr>\n",
       "    <tr>\n",
       "      <th>289797889702373958</th>\n",
       "      <td>0.056765</td>\n",
       "      <td>0.056009</td>\n",
       "      <td>0.042473</td>\n",
       "      <td>0.065415</td>\n",
       "      <td>0.084100</td>\n",
       "      <td>0.066051</td>\n",
       "      <td>0.090660</td>\n",
       "      <td>0.118225</td>\n",
       "      <td>0.071856</td>\n",
       "      <td>0.100017</td>\n",
       "      <td>0.129854</td>\n",
       "      <td>0.118575</td>\n",
       "    </tr>\n",
       "    <tr>\n",
       "      <th>-402874006399730161</th>\n",
       "      <td>0.056765</td>\n",
       "      <td>0.056009</td>\n",
       "      <td>0.042473</td>\n",
       "      <td>0.065415</td>\n",
       "      <td>0.084100</td>\n",
       "      <td>0.066051</td>\n",
       "      <td>0.090660</td>\n",
       "      <td>0.118225</td>\n",
       "      <td>0.071856</td>\n",
       "      <td>0.100017</td>\n",
       "      <td>0.129854</td>\n",
       "      <td>0.118575</td>\n",
       "    </tr>\n",
       "    <tr>\n",
       "      <th>5751283639860028129</th>\n",
       "      <td>0.050808</td>\n",
       "      <td>0.062147</td>\n",
       "      <td>0.042489</td>\n",
       "      <td>0.067749</td>\n",
       "      <td>0.083947</td>\n",
       "      <td>0.069963</td>\n",
       "      <td>0.074460</td>\n",
       "      <td>0.126007</td>\n",
       "      <td>0.076857</td>\n",
       "      <td>0.097849</td>\n",
       "      <td>0.142111</td>\n",
       "      <td>0.105613</td>\n",
       "    </tr>\n",
       "  </tbody>\n",
       "</table>\n",
       "</div>"
      ],
      "text/plain": [
       "                          F23-    F24-26  ...    M32-38      M39+\n",
       "device_id                                 ...                    \n",
       "-5893464122623104785  0.041228  0.062194  ...  0.144822  0.101301\n",
       "-7560708697029818408  0.041228  0.062194  ...  0.144822  0.101301\n",
       " 289797889702373958   0.056765  0.056009  ...  0.129854  0.118575\n",
       "-402874006399730161   0.056765  0.056009  ...  0.129854  0.118575\n",
       " 5751283639860028129  0.050808  0.062147  ...  0.142111  0.105613\n",
       "\n",
       "[5 rows x 12 columns]"
      ]
     },
     "execution_count": 49,
     "metadata": {
      "tags": []
     },
     "output_type": "execute_result"
    }
   ],
   "source": [
    "y_pred1 = pd.DataFrame(Ytest_noevents_pred, index = gatest_has_noevents.index, columns=y_encoder_ev.classes_)\n",
    "y_pred2 = pd.DataFrame(Ytest_events_pred, index = gatest_has_events.index, columns=y_encoder_ev.classes_)\n",
    "y_test_pred=pd.concat([y_pred1,y_pred2])\n",
    "y_test_pred.head()"
   ]
  },
  {
   "cell_type": "code",
   "execution_count": null,
   "metadata": {
    "id": "af-Y52MIb5-F"
   },
   "outputs": [],
   "source": [
    "#saving test data predicted\n",
    "y_test_pred.to_csv('/content/sample_data/pred_files15')"
   ]
  },
  {
   "cell_type": "markdown",
   "metadata": {
    "id": "VzTTm9fjCjbR"
   },
   "source": [
    "#Score\n"
   ]
  },
  {
   "cell_type": "code",
   "execution_count": null,
   "metadata": {
    "colab": {
     "base_uri": "https://localhost:8080/"
    },
    "id": "byYK3Ij9jz1W",
    "outputId": "263790a9-5f09-4c1a-f9a4-7e2bc87ed7d8"
   },
   "outputs": [
    {
     "data": {
      "image/jpeg": "[encoded data removed]",
      "text/plain": [
       "<IPython.core.display.Image object>"
      ]
     },
     "execution_count": 92,
     "metadata": {
      "tags": []
     },
     "output_type": "execute_result"
    }
   ],
   "source": [
    "from IPython.display import Image\n",
    "Image(filename=('/content/score.JPG'))\n"
   ]
  },
  {
   "cell_type": "markdown",
   "metadata": {
    "id": "Y7FSO904C0ER"
   },
   "source": [
    "# Rank~240"
   ]
  }
 ],
 "metadata": {
  "accelerator": "GPU",
  "colab": {
   "collapsed_sections": [
    "5tUWtfK3zm4S",
    "mDuA-OB4nTKV",
    "jjVHpF57SaiQ",
    "X22_pTAmwyEw",
    "aELiR1fE9p1E",
    "k_zUe7aaX4F1",
    "646-x3k7jFu5",
    "yJoZALa_jL_j",
    "3bS_TKoPje-I",
    "HNKV9LpC2sOt",
    "snNBzV87yNv1",
    "mdJ4qmP_7OTh",
    "rV1kqGMHJJhL",
    "6FG8DxNuBoZs",
    "EKoj66Cz7eX8",
    "-4eGUuEX7eYL",
    "9JTfRxIt7eYN",
    "FiP9fK7e8vxf",
    "17BBng0EiUcR",
    "VzTTm9fjCjbR",
    "Y7FSO904C0ER"
   ],
   "name": "sugurunaresh111_CS1_Features_V5.ipynb",
   "provenance": []
  },
  "kernelspec": {
   "display_name": "Python 3",
   "language": "python",
   "name": "python3"
  },
  "language_info": {
   "codemirror_mode": {
    "name": "ipython",
    "version": 3
   },
   "file_extension": ".py",
   "mimetype": "text/x-python",
   "name": "python",
   "nbconvert_exporter": "python",
   "pygments_lexer": "ipython3",
   "version": "3.7.4"
  }
 },
 "nbformat": 4,
 "nbformat_minor": 1
}
