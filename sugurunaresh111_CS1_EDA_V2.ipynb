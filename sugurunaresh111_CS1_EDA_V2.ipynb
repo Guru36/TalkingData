{
  "nbformat": 4,
  "nbformat_minor": 0,
  "metadata": {
    "_change_revision": 104,
    "_is_fork": false,
    "kernelspec": {
      "display_name": "Python 3",
      "language": "python",
      "name": "python3"
    },
    "language_info": {
      "codemirror_mode": {
        "name": "ipython",
        "version": 3
      },
      "file_extension": ".py",
      "mimetype": "text/x-python",
      "name": "python",
      "nbconvert_exporter": "python",
      "pygments_lexer": "ipython3",
      "version": "3.7.4"
    },
    "colab": {
      "name": "sugurunaresh111_CS1_EDA_V2.ipynb",
      "provenance": [],
      "collapsed_sections": []
    }
  },
  "cells": [
    {
      "cell_type": "code",
      "metadata": {
        "id": "yMFf9t4yRp6l",
        "colab": {
          "base_uri": "https://localhost:8080/"
        },
        "outputId": "fc9c5054-03b9-42a9-dd58-d5194da2af5f"
      },
      "source": [
        "import warnings\n",
        "warnings.filterwarnings(\"ignore\")\n",
        "import pandas as pd\n",
        "import numpy as np\n",
        "%matplotlib inline\n",
        "import seaborn as sns\n",
        "import matplotlib.pyplot as plt\n",
        "import os\n",
        "!pip install downcast\n",
        "from downcast import reduce\n",
        "!pip install phik\n",
        "import phik\n",
        "from phik import resources, report\n",
        "#gender_mobile_data.phik_matrix()"
      ],
      "execution_count": null,
      "outputs": [
        {
          "output_type": "stream",
          "text": [
            "Requirement already satisfied: downcast in /usr/local/lib/python3.7/dist-packages (0.0.8)\n",
            "Requirement already satisfied: phik in /usr/local/lib/python3.7/dist-packages (0.11.2)\n",
            "Requirement already satisfied: scipy>=1.5.2 in /usr/local/lib/python3.7/dist-packages (from phik) (1.6.3)\n",
            "Requirement already satisfied: joblib>=0.14.1 in /usr/local/lib/python3.7/dist-packages (from phik) (1.0.1)\n",
            "Requirement already satisfied: numpy>=1.18.0 in /usr/local/lib/python3.7/dist-packages (from phik) (1.19.5)\n",
            "Requirement already satisfied: pandas>=0.25.1 in /usr/local/lib/python3.7/dist-packages (from phik) (1.1.5)\n",
            "Requirement already satisfied: matplotlib>=2.2.3 in /usr/local/lib/python3.7/dist-packages (from phik) (3.2.2)\n",
            "Requirement already satisfied: pytz>=2017.2 in /usr/local/lib/python3.7/dist-packages (from pandas>=0.25.1->phik) (2018.9)\n",
            "Requirement already satisfied: python-dateutil>=2.7.3 in /usr/local/lib/python3.7/dist-packages (from pandas>=0.25.1->phik) (2.8.1)\n",
            "Requirement already satisfied: cycler>=0.10 in /usr/local/lib/python3.7/dist-packages (from matplotlib>=2.2.3->phik) (0.10.0)\n",
            "Requirement already satisfied: kiwisolver>=1.0.1 in /usr/local/lib/python3.7/dist-packages (from matplotlib>=2.2.3->phik) (1.3.1)\n",
            "Requirement already satisfied: pyparsing!=2.0.4,!=2.1.2,!=2.1.6,>=2.0.1 in /usr/local/lib/python3.7/dist-packages (from matplotlib>=2.2.3->phik) (2.4.7)\n",
            "Requirement already satisfied: six>=1.5 in /usr/local/lib/python3.7/dist-packages (from python-dateutil>=2.7.3->pandas>=0.25.1->phik) (1.15.0)\n"
          ],
          "name": "stdout"
        }
      ]
    },
    {
      "cell_type": "code",
      "metadata": {
        "id": "6bO3DPicVJXS",
        "colab": {
          "base_uri": "https://localhost:8080/"
        },
        "outputId": "b6916f5d-d3d8-460f-d7b7-610696dd455a"
      },
      "source": [
        "from google.colab import drive\n",
        "drive.mount('/content/drive')"
      ],
      "execution_count": null,
      "outputs": [
        {
          "output_type": "stream",
          "text": [
            "Drive already mounted at /content/drive; to attempt to forcibly remount, call drive.mount(\"/content/drive\", force_remount=True).\n"
          ],
          "name": "stdout"
        }
      ]
    },
    {
      "cell_type": "markdown",
      "metadata": {
        "id": "nPC1oyn7bMRW"
      },
      "source": [
        "# **Business Problem**\n",
        "\n",
        "TalkingData is China's leading third-party data intelligence solution provider which strives to empower enterprises with data-driven digital transformation.In the last seven years, TalkingData's vision of using \"big data for smarter business decisions and a better world\" has allowed it to gradually become China's leading data intelligence solution provider.\n",
        "\n",
        "In July 2016 TalkData released a Kaggle Competition to predict the demographics of a Mobile User by providing Mobile Device details of 70% of daily active users in China to help its clients better understand and interact with their audiences.\n",
        "\n",
        "In this competition, Kagglers are challenged to build a model predicting users’ demographic characteristics (Age & Gender) based on their app usage, Geo-location, and mobile device properties. Doing so will help millions of developers and brand advertisers around the world pursue data-driven marketing efforts which are relevant to their users and catered to their preferences.\n"
      ]
    },
    {
      "cell_type": "markdown",
      "metadata": {
        "id": "nsq1X1mOb3jR"
      },
      "source": [
        "# **ML Formulation:**\n",
        "After doing EDA and Preprocessing the available training Data  a Supervised machine learning model or a deep learning model can be applied on best features of the training data to predict the demographics of mobile users.\n"
      ]
    },
    {
      "cell_type": "markdown",
      "metadata": {
        "id": "VLPuX3JDb9dV"
      },
      "source": [
        "# **Data columns/featuires Overview:**"
      ]
    },
    {
      "cell_type": "markdown",
      "metadata": {
        "id": "Lw5IXMMOcA5W"
      },
      "source": [
        "![TABLES.png](data:image/png;base64,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)"
      ]
    },
    {
      "cell_type": "markdown",
      "metadata": {
        "id": "KkQ_Ri0icE6K"
      },
      "source": [
        "\n",
        "•\tDevice_ID: Dataytpe=Integer.Unique number  given to the User’s Mobile\n",
        "\n",
        "•\tGender: Dataytpe=Categorical. Gender of the User ,M for Male & F for Female\n",
        "\n",
        "•\tAge: Dataytpe=Integer.Age of the user\n",
        "\n",
        "•\tGroup: Dataytpe=Categorical. This is the Target class for our problem and \n",
        "contains the classes which we need to predict. The first letter denotes the gender of the user and it is followed by the age group to which the user belongs.\n",
        "\n",
        "•\tEvent_ID: Dataytpe=Integer. Unique number  given to the Event\n",
        "\n",
        "•\tLabel_ID: Dataytpe=Integer. Unique number  given to the Label\n",
        "\n",
        "•\tPhone_Brand: Dataytpe=Categorical. Brand name of the Mobile\n",
        "\n",
        "•\tDevice_Model: Dataytpe=Categorical. Model name of the device with in the Brand\n",
        "\n",
        "•\tTime_Stamp: Dataytpe=Integer. Time of the event happening\n",
        "\n",
        "•\tLatitude-Longitude: Dataytpe=Integer. geo-location where event is happening\n",
        "\n",
        "•\tApp_ID: Dataytpe=Integer. Unique number  given to the Label\n",
        "\n",
        "•\tIs_Installed: Dataytpe=Categorical. Is the Application installed?\n",
        "0-not installed, 1-Installed\n",
        "•\tIs_Active: Dataytpe=Categorical. Is the Application active\n",
        "0-Not Active, 1-Active\n",
        "\n",
        "•\tCategory: Dataytpe=Categorical. Category of application like finance, sports etc.\n"
      ]
    },
    {
      "cell_type": "markdown",
      "metadata": {
        "id": "sfK_t2N6hBkw"
      },
      "source": [
        "# **Performance matric:**\n",
        "Multi Class Logarithmic -Loss: Each device has been labelled with one true class. For each device, we have to predict a set of predicted probabilities (one for each class). The formula is\n",
        " \n",
        "where N is the number of devices in the test set, M is the number of class labels, log is the natural logarithm, yij is 1 if device i belongs to class j and 0 otherwise, and pij is the predicted probability that observation ii belongs to class j.\n",
        "\n"
      ]
    },
    {
      "cell_type": "markdown",
      "metadata": {
        "id": "QSVQbcPvz-BB"
      },
      "source": [
        "# **References**\n",
        "\n",
        "1.https://www.kaggle.com/beyondbeneath/geolocation-visualisations\n",
        "\n",
        "2.https://www.kaggle.com/c/talkingdata-mobile-user-demographics/discussion/23424 by Yiyun Chen\n",
        "\n",
        "3.https://arxiv.org/abs/1603.00059\n",
        "\n",
        "4.https://www.kaggle.com/dvasyukova/a-linear-model-on-apps-and-labels\n",
        "\n"
      ]
    },
    {
      "cell_type": "markdown",
      "metadata": {
        "_cell_guid": "29ab3f35-c097-465e-e2a5-4efe1aa836aa",
        "id": "ZCk0FRMFK-NJ"
      },
      "source": [
        "## Load data"
      ]
    },
    {
      "cell_type": "markdown",
      "metadata": {
        "id": "pE8viKh3K-NM"
      },
      "source": [
        "**1.Training data**"
      ]
    },
    {
      "cell_type": "code",
      "metadata": {
        "colab": {
          "base_uri": "https://localhost:8080/",
          "height": 227
        },
        "id": "Y5FL8Kt-K-NO",
        "outputId": "4346736e-67fd-46de-e29c-2aebf6475e9e"
      },
      "source": [
        "datadir = '/content/drive/MyDrive/Talkingdata_CS1/talkingdata-mobile-user-demographics/data/'\n",
        "gender_age_train = pd.read_csv(os.path.join(datadir,'gender_age_train.csv'),index_col='device_id')\n",
        "gender_age_train.head()"
      ],
      "execution_count": null,
      "outputs": [
        {
          "output_type": "execute_result",
          "data": {
            "text/html": [
              "<div>\n",
              "<style scoped>\n",
              "    .dataframe tbody tr th:only-of-type {\n",
              "        vertical-align: middle;\n",
              "    }\n",
              "\n",
              "    .dataframe tbody tr th {\n",
              "        vertical-align: top;\n",
              "    }\n",
              "\n",
              "    .dataframe thead th {\n",
              "        text-align: right;\n",
              "    }\n",
              "</style>\n",
              "<table border=\"1\" class=\"dataframe\">\n",
              "  <thead>\n",
              "    <tr style=\"text-align: right;\">\n",
              "      <th></th>\n",
              "      <th>gender</th>\n",
              "      <th>age</th>\n",
              "      <th>group</th>\n",
              "    </tr>\n",
              "    <tr>\n",
              "      <th>device_id</th>\n",
              "      <th></th>\n",
              "      <th></th>\n",
              "      <th></th>\n",
              "    </tr>\n",
              "  </thead>\n",
              "  <tbody>\n",
              "    <tr>\n",
              "      <th>-8076087639492063270</th>\n",
              "      <td>M</td>\n",
              "      <td>35</td>\n",
              "      <td>M32-38</td>\n",
              "    </tr>\n",
              "    <tr>\n",
              "      <th>-2897161552818060146</th>\n",
              "      <td>M</td>\n",
              "      <td>35</td>\n",
              "      <td>M32-38</td>\n",
              "    </tr>\n",
              "    <tr>\n",
              "      <th>-8260683887967679142</th>\n",
              "      <td>M</td>\n",
              "      <td>35</td>\n",
              "      <td>M32-38</td>\n",
              "    </tr>\n",
              "    <tr>\n",
              "      <th>-4938849341048082022</th>\n",
              "      <td>M</td>\n",
              "      <td>30</td>\n",
              "      <td>M29-31</td>\n",
              "    </tr>\n",
              "    <tr>\n",
              "      <th>245133531816851882</th>\n",
              "      <td>M</td>\n",
              "      <td>30</td>\n",
              "      <td>M29-31</td>\n",
              "    </tr>\n",
              "  </tbody>\n",
              "</table>\n",
              "</div>"
            ],
            "text/plain": [
              "                     gender  age   group\n",
              "device_id                               \n",
              "-8076087639492063270      M   35  M32-38\n",
              "-2897161552818060146      M   35  M32-38\n",
              "-8260683887967679142      M   35  M32-38\n",
              "-4938849341048082022      M   30  M29-31\n",
              " 245133531816851882       M   30  M29-31"
            ]
          },
          "metadata": {
            "tags": []
          },
          "execution_count": 3
        }
      ]
    },
    {
      "cell_type": "markdown",
      "metadata": {
        "id": "oZHDxG8O-v0X"
      },
      "source": [
        "2.Test Data"
      ]
    },
    {
      "cell_type": "code",
      "metadata": {
        "colab": {
          "base_uri": "https://localhost:8080/",
          "height": 211
        },
        "id": "FRTQLWyP-vBh",
        "outputId": "b3ebe1ef-82e6-4932-9a39-99bb2e80431f"
      },
      "source": [
        "gender_age_test = pd.read_csv(os.path.join(datadir,'gender_age_test.csv'),index_col = 'device_id')\n",
        "gender_age_test.head()"
      ],
      "execution_count": null,
      "outputs": [
        {
          "output_type": "execute_result",
          "data": {
            "text/html": [
              "<div>\n",
              "<style scoped>\n",
              "    .dataframe tbody tr th:only-of-type {\n",
              "        vertical-align: middle;\n",
              "    }\n",
              "\n",
              "    .dataframe tbody tr th {\n",
              "        vertical-align: top;\n",
              "    }\n",
              "\n",
              "    .dataframe thead th {\n",
              "        text-align: right;\n",
              "    }\n",
              "</style>\n",
              "<table border=\"1\" class=\"dataframe\">\n",
              "  <thead>\n",
              "    <tr style=\"text-align: right;\">\n",
              "      <th></th>\n",
              "    </tr>\n",
              "    <tr>\n",
              "      <th>device_id</th>\n",
              "    </tr>\n",
              "  </thead>\n",
              "  <tbody>\n",
              "    <tr>\n",
              "      <th>1002079943728939269</th>\n",
              "    </tr>\n",
              "    <tr>\n",
              "      <th>-1547860181818787117</th>\n",
              "    </tr>\n",
              "    <tr>\n",
              "      <th>7374582448058474277</th>\n",
              "    </tr>\n",
              "    <tr>\n",
              "      <th>-6220210354783429585</th>\n",
              "    </tr>\n",
              "    <tr>\n",
              "      <th>-5893464122623104785</th>\n",
              "    </tr>\n",
              "  </tbody>\n",
              "</table>\n",
              "</div>"
            ],
            "text/plain": [
              "Empty DataFrame\n",
              "Columns: []\n",
              "Index: [1002079943728939269, -1547860181818787117, 7374582448058474277, -6220210354783429585, -5893464122623104785]"
            ]
          },
          "metadata": {
            "tags": []
          },
          "execution_count": 4
        }
      ]
    },
    {
      "cell_type": "markdown",
      "metadata": {
        "id": "G3a5SQmlK-NS"
      },
      "source": [
        "3.Database of Phone brands and its Models"
      ]
    },
    {
      "cell_type": "code",
      "metadata": {
        "colab": {
          "base_uri": "https://localhost:8080/",
          "height": 227
        },
        "id": "Abeh3GxkK-NT",
        "outputId": "dfa311a2-4c35-4b7c-f6b6-0a16ee601d0a"
      },
      "source": [
        "phone_brand_device_model = pd.read_csv(os.path.join(datadir,'phone_brand_device_model.csv'))\n",
        "phone_brand_device_model = phone_brand_device_model.drop_duplicates('device_id',keep='first').set_index('device_id')\n",
        "phone_brand_device_model.head()\n"
      ],
      "execution_count": null,
      "outputs": [
        {
          "output_type": "execute_result",
          "data": {
            "text/html": [
              "<div>\n",
              "<style scoped>\n",
              "    .dataframe tbody tr th:only-of-type {\n",
              "        vertical-align: middle;\n",
              "    }\n",
              "\n",
              "    .dataframe tbody tr th {\n",
              "        vertical-align: top;\n",
              "    }\n",
              "\n",
              "    .dataframe thead th {\n",
              "        text-align: right;\n",
              "    }\n",
              "</style>\n",
              "<table border=\"1\" class=\"dataframe\">\n",
              "  <thead>\n",
              "    <tr style=\"text-align: right;\">\n",
              "      <th></th>\n",
              "      <th>phone_brand</th>\n",
              "      <th>device_model</th>\n",
              "    </tr>\n",
              "    <tr>\n",
              "      <th>device_id</th>\n",
              "      <th></th>\n",
              "      <th></th>\n",
              "    </tr>\n",
              "  </thead>\n",
              "  <tbody>\n",
              "    <tr>\n",
              "      <th>-8890648629457979026</th>\n",
              "      <td>小米</td>\n",
              "      <td>红米</td>\n",
              "    </tr>\n",
              "    <tr>\n",
              "      <th>1277779817574759137</th>\n",
              "      <td>小米</td>\n",
              "      <td>MI 2</td>\n",
              "    </tr>\n",
              "    <tr>\n",
              "      <th>5137427614288105724</th>\n",
              "      <td>三星</td>\n",
              "      <td>Galaxy S4</td>\n",
              "    </tr>\n",
              "    <tr>\n",
              "      <th>3669464369358936369</th>\n",
              "      <td>SUGAR</td>\n",
              "      <td>时尚手机</td>\n",
              "    </tr>\n",
              "    <tr>\n",
              "      <th>-5019277647504317457</th>\n",
              "      <td>三星</td>\n",
              "      <td>Galaxy Note 2</td>\n",
              "    </tr>\n",
              "  </tbody>\n",
              "</table>\n",
              "</div>"
            ],
            "text/plain": [
              "                     phone_brand   device_model\n",
              "device_id                                      \n",
              "-8890648629457979026          小米             红米\n",
              " 1277779817574759137          小米           MI 2\n",
              " 5137427614288105724          三星      Galaxy S4\n",
              " 3669464369358936369       SUGAR           时尚手机\n",
              "-5019277647504317457          三星  Galaxy Note 2"
            ]
          },
          "metadata": {
            "tags": []
          },
          "execution_count": 5
        }
      ]
    },
    {
      "cell_type": "code",
      "metadata": {
        "colab": {
          "base_uri": "https://localhost:8080/",
          "height": 227
        },
        "id": "XUvB6uvJJeHG",
        "outputId": "d5833a4c-2b8f-4369-fbcb-597b462904f8"
      },
      "source": [
        "#Changing the brand names from Chinese to English \n",
        "English_phone_brands = {\"三星\": \"samsung\", \"天语\": \"Ktouch\",\"海信\": \"hisense\", \"联想\": \"lenovo\",   \"欧比\": \"obi\",    \"爱派尔\": \"ipair\",  \n",
        "\"努比亚\": \"nubia\",  \"优米\": \"youmi\",\"朵唯\": \"dowe\", \"黑米\": \"heymi\",\"锤子\": \"hammer\",\"酷比魔方\": \"koobee\",\"美图\": \"meitu\",\"尼比鲁\": \"nibilu\",\n",
        "    \"一加\": \"oneplus\",\"优购\": \"yougo\",\"诺基亚\": \"nokia\", \"糖葫芦\": \"candy\",\"中国移动\": \"ccmc\", \"语信\": \"yuxin\",\"基伍\": \"kiwu\",\"青橙\": \"greeno\",\n",
        "    \"华硕\": \"asus\", \"夏新\": \"panosonic\", \"维图\": \"weitu\",\"艾优尼\": \"aiyouni\",\"摩托罗拉\": \"moto\", \"乡米\": \"xiangmi\", \"米奇\": \"micky\",\n",
        "    \"大可乐\": \"bigcola\", \"沃普丰\": \"wpf\", \"神舟\": \"hasse\",  \"摩乐\": \"mole\",\"飞秒\": \"fs\",\"米歌\": \"mige\", \"富可视\": \"fks\", \"德赛\": \"desci\",\n",
        "    \"梦米\": \"mengmi\",\"乐视\": \"lshi\",\"小杨树\": \"smallt\",\"纽曼\": \"newman\", \"邦华\": \"banghua\", \"E派\": \"epai\", \"易派\": \"epai\", \"普耐尔\": \"pner\",\n",
        "    \"欧新\": \"ouxin\",   \"西米\": \"ximi\",  \"海尔\": \"haier\",  \"波导\": \"bodao\", \"糯米\": \"nuomi\", \"唯米\": \"weimi\", \"酷珀\": \"kupo\",  \"谷歌\": \"google\",\n",
        "    \"昂达\": \"ada\" ,    \"聆韵\": \"lingyun\",  \"小米\": \"Xiaomi\", \"华为\": \"Huawei\", \"魅族\": \"Meizu\", \"中兴\": \"ZTE\",   \"酷派\": \"Coolpad\",    \"金立\": \"Gionee\",\n",
        "    \"SUGAR\": \"SUGAR\",   \"OPPO\": \"OPPO\",   \"vivo\": \"vivo\",  \"HTC\": \"HTC\",   \"LG\": \"LG\", \"ZUK\": \"ZUK\",   \"TCL\": \"TCL\", \"LOGO\": \"LOGO\",\"Lovme\": \"Lovme\",\n",
        "    \"PPTV\": \"PPTV\", \"ZOYE\": \"ZOYE\", \"MIL\": \"MIL\",   \"索尼\" : \"Sony\",\"欧博信\" : \"Opssom\",  \"奇酷\" : \"Qiku\",\"酷比\" : \"CUBE\", \"康佳\" : \"Konka\",\n",
        "    \"亿通\" : \"Yitong\",   \"金星数码\" : \"JXD\",\"至尊宝\" : \"Monkey King\", \"百立丰\" : \"Hundred Li Feng\",\"贝尔丰\" : \"Bifer\",\"百加\" : \"Bacardi\", \"诺亚信\" : \"Noain\",\n",
        "    \"广信\" : \"Kingsun\",  \"世纪天元\" : \"Ctyon\", \"青葱\" : \"Cong\", \"果米\" : \"Taobao\",\"斐讯\" : \"Phicomm\", \"长虹\" : \"Changhong\", \"欧奇\" : \"Oukimobile\",\n",
        "      \"先锋\" : \"XFPLAY\",\"台电\" : \"Teclast\",\"大Q\" : \"Daq\",\"蓝魔\" : \"Ramos\", \"奥克斯\" : \"AUX\"\n",
        "}\n",
        "\n",
        "phone_brand_device_model.phone_brand = phone_brand_device_model.phone_brand.map(pd.Series(English_phone_brands), na_action='ignore')\n",
        "phone_brand_device_model.head()"
      ],
      "execution_count": null,
      "outputs": [
        {
          "output_type": "execute_result",
          "data": {
            "text/html": [
              "<div>\n",
              "<style scoped>\n",
              "    .dataframe tbody tr th:only-of-type {\n",
              "        vertical-align: middle;\n",
              "    }\n",
              "\n",
              "    .dataframe tbody tr th {\n",
              "        vertical-align: top;\n",
              "    }\n",
              "\n",
              "    .dataframe thead th {\n",
              "        text-align: right;\n",
              "    }\n",
              "</style>\n",
              "<table border=\"1\" class=\"dataframe\">\n",
              "  <thead>\n",
              "    <tr style=\"text-align: right;\">\n",
              "      <th></th>\n",
              "      <th>phone_brand</th>\n",
              "      <th>device_model</th>\n",
              "    </tr>\n",
              "    <tr>\n",
              "      <th>device_id</th>\n",
              "      <th></th>\n",
              "      <th></th>\n",
              "    </tr>\n",
              "  </thead>\n",
              "  <tbody>\n",
              "    <tr>\n",
              "      <th>-8890648629457979026</th>\n",
              "      <td>Xiaomi</td>\n",
              "      <td>红米</td>\n",
              "    </tr>\n",
              "    <tr>\n",
              "      <th>1277779817574759137</th>\n",
              "      <td>Xiaomi</td>\n",
              "      <td>MI 2</td>\n",
              "    </tr>\n",
              "    <tr>\n",
              "      <th>5137427614288105724</th>\n",
              "      <td>samsung</td>\n",
              "      <td>Galaxy S4</td>\n",
              "    </tr>\n",
              "    <tr>\n",
              "      <th>3669464369358936369</th>\n",
              "      <td>SUGAR</td>\n",
              "      <td>时尚手机</td>\n",
              "    </tr>\n",
              "    <tr>\n",
              "      <th>-5019277647504317457</th>\n",
              "      <td>samsung</td>\n",
              "      <td>Galaxy Note 2</td>\n",
              "    </tr>\n",
              "  </tbody>\n",
              "</table>\n",
              "</div>"
            ],
            "text/plain": [
              "                     phone_brand   device_model\n",
              "device_id                                      \n",
              "-8890648629457979026      Xiaomi             红米\n",
              " 1277779817574759137      Xiaomi           MI 2\n",
              " 5137427614288105724     samsung      Galaxy S4\n",
              " 3669464369358936369       SUGAR           时尚手机\n",
              "-5019277647504317457     samsung  Galaxy Note 2"
            ]
          },
          "metadata": {
            "tags": []
          },
          "execution_count": 6
        }
      ]
    },
    {
      "cell_type": "markdown",
      "metadata": {
        "id": "FgjPV0zC_hPH"
      },
      "source": [
        "4.Database of Events with Device info logged "
      ]
    },
    {
      "cell_type": "code",
      "metadata": {
        "colab": {
          "base_uri": "https://localhost:8080/",
          "height": 227
        },
        "id": "fgbyokpV_kbL",
        "outputId": "39c9d82c-85a5-426d-afe3-6a7dde08bea0"
      },
      "source": [
        "events_data = pd.read_csv(os.path.join(datadir,'events.csv'),parse_dates=['timestamp'], index_col='event_id')\n",
        "events_data['event_id']=events_data.index\n",
        "events_data.head()"
      ],
      "execution_count": null,
      "outputs": [
        {
          "output_type": "execute_result",
          "data": {
            "text/html": [
              "<div>\n",
              "<style scoped>\n",
              "    .dataframe tbody tr th:only-of-type {\n",
              "        vertical-align: middle;\n",
              "    }\n",
              "\n",
              "    .dataframe tbody tr th {\n",
              "        vertical-align: top;\n",
              "    }\n",
              "\n",
              "    .dataframe thead th {\n",
              "        text-align: right;\n",
              "    }\n",
              "</style>\n",
              "<table border=\"1\" class=\"dataframe\">\n",
              "  <thead>\n",
              "    <tr style=\"text-align: right;\">\n",
              "      <th></th>\n",
              "      <th>device_id</th>\n",
              "      <th>timestamp</th>\n",
              "      <th>longitude</th>\n",
              "      <th>latitude</th>\n",
              "      <th>event_id</th>\n",
              "    </tr>\n",
              "    <tr>\n",
              "      <th>event_id</th>\n",
              "      <th></th>\n",
              "      <th></th>\n",
              "      <th></th>\n",
              "      <th></th>\n",
              "      <th></th>\n",
              "    </tr>\n",
              "  </thead>\n",
              "  <tbody>\n",
              "    <tr>\n",
              "      <th>1</th>\n",
              "      <td>29182687948017175</td>\n",
              "      <td>2016-05-01 00:55:25</td>\n",
              "      <td>121.38</td>\n",
              "      <td>31.24</td>\n",
              "      <td>1</td>\n",
              "    </tr>\n",
              "    <tr>\n",
              "      <th>2</th>\n",
              "      <td>-6401643145415154744</td>\n",
              "      <td>2016-05-01 00:54:12</td>\n",
              "      <td>103.65</td>\n",
              "      <td>30.97</td>\n",
              "      <td>2</td>\n",
              "    </tr>\n",
              "    <tr>\n",
              "      <th>3</th>\n",
              "      <td>-4833982096941402721</td>\n",
              "      <td>2016-05-01 00:08:05</td>\n",
              "      <td>106.60</td>\n",
              "      <td>29.70</td>\n",
              "      <td>3</td>\n",
              "    </tr>\n",
              "    <tr>\n",
              "      <th>4</th>\n",
              "      <td>-6815121365017318426</td>\n",
              "      <td>2016-05-01 00:06:40</td>\n",
              "      <td>104.27</td>\n",
              "      <td>23.28</td>\n",
              "      <td>4</td>\n",
              "    </tr>\n",
              "    <tr>\n",
              "      <th>5</th>\n",
              "      <td>-5373797595892518570</td>\n",
              "      <td>2016-05-01 00:07:18</td>\n",
              "      <td>115.88</td>\n",
              "      <td>28.66</td>\n",
              "      <td>5</td>\n",
              "    </tr>\n",
              "  </tbody>\n",
              "</table>\n",
              "</div>"
            ],
            "text/plain": [
              "                    device_id           timestamp  ...  latitude  event_id\n",
              "event_id                                           ...                    \n",
              "1           29182687948017175 2016-05-01 00:55:25  ...     31.24         1\n",
              "2        -6401643145415154744 2016-05-01 00:54:12  ...     30.97         2\n",
              "3        -4833982096941402721 2016-05-01 00:08:05  ...     29.70         3\n",
              "4        -6815121365017318426 2016-05-01 00:06:40  ...     23.28         4\n",
              "5        -5373797595892518570 2016-05-01 00:07:18  ...     28.66         5\n",
              "\n",
              "[5 rows x 5 columns]"
            ]
          },
          "metadata": {
            "tags": []
          },
          "execution_count": 7
        }
      ]
    },
    {
      "cell_type": "markdown",
      "metadata": {
        "id": "iKXne42gAzr0"
      },
      "source": [
        "5.Database of events with apps"
      ]
    },
    {
      "cell_type": "code",
      "metadata": {
        "colab": {
          "base_uri": "https://localhost:8080/",
          "height": 197
        },
        "id": "jWDkkof5ArWN",
        "outputId": "7bc79de0-cf1f-4006-c5fc-a53bc96a1b0e"
      },
      "source": [
        "apps_events_data = pd.read_csv(os.path.join(datadir,'app_events.csv'), usecols=['event_id','app_id','is_active'],dtype={'is_active':bool})\n",
        "apps_events_data.head()"
      ],
      "execution_count": null,
      "outputs": [
        {
          "output_type": "execute_result",
          "data": {
            "text/html": [
              "<div>\n",
              "<style scoped>\n",
              "    .dataframe tbody tr th:only-of-type {\n",
              "        vertical-align: middle;\n",
              "    }\n",
              "\n",
              "    .dataframe tbody tr th {\n",
              "        vertical-align: top;\n",
              "    }\n",
              "\n",
              "    .dataframe thead th {\n",
              "        text-align: right;\n",
              "    }\n",
              "</style>\n",
              "<table border=\"1\" class=\"dataframe\">\n",
              "  <thead>\n",
              "    <tr style=\"text-align: right;\">\n",
              "      <th></th>\n",
              "      <th>event_id</th>\n",
              "      <th>app_id</th>\n",
              "      <th>is_active</th>\n",
              "    </tr>\n",
              "  </thead>\n",
              "  <tbody>\n",
              "    <tr>\n",
              "      <th>0</th>\n",
              "      <td>2</td>\n",
              "      <td>5927333115845830913</td>\n",
              "      <td>True</td>\n",
              "    </tr>\n",
              "    <tr>\n",
              "      <th>1</th>\n",
              "      <td>2</td>\n",
              "      <td>-5720078949152207372</td>\n",
              "      <td>False</td>\n",
              "    </tr>\n",
              "    <tr>\n",
              "      <th>2</th>\n",
              "      <td>2</td>\n",
              "      <td>-1633887856876571208</td>\n",
              "      <td>False</td>\n",
              "    </tr>\n",
              "    <tr>\n",
              "      <th>3</th>\n",
              "      <td>2</td>\n",
              "      <td>-653184325010919369</td>\n",
              "      <td>True</td>\n",
              "    </tr>\n",
              "    <tr>\n",
              "      <th>4</th>\n",
              "      <td>2</td>\n",
              "      <td>8693964245073640147</td>\n",
              "      <td>True</td>\n",
              "    </tr>\n",
              "  </tbody>\n",
              "</table>\n",
              "</div>"
            ],
            "text/plain": [
              "   event_id               app_id  is_active\n",
              "0         2  5927333115845830913       True\n",
              "1         2 -5720078949152207372      False\n",
              "2         2 -1633887856876571208      False\n",
              "3         2  -653184325010919369       True\n",
              "4         2  8693964245073640147       True"
            ]
          },
          "metadata": {
            "tags": []
          },
          "execution_count": 8
        }
      ]
    },
    {
      "cell_type": "markdown",
      "metadata": {
        "id": "0YdLRBHdBPEY"
      },
      "source": [
        "5.Database of Apps"
      ]
    },
    {
      "cell_type": "code",
      "metadata": {
        "colab": {
          "base_uri": "https://localhost:8080/",
          "height": 197
        },
        "id": "6ipt5fLKAyTM",
        "outputId": "852f4aec-e420-48f3-97c6-5a032a81b341"
      },
      "source": [
        "apps_label_data = pd.read_csv(os.path.join(datadir,'app_labels.csv'))\n",
        "apps_label_data.head()"
      ],
      "execution_count": null,
      "outputs": [
        {
          "output_type": "execute_result",
          "data": {
            "text/html": [
              "<div>\n",
              "<style scoped>\n",
              "    .dataframe tbody tr th:only-of-type {\n",
              "        vertical-align: middle;\n",
              "    }\n",
              "\n",
              "    .dataframe tbody tr th {\n",
              "        vertical-align: top;\n",
              "    }\n",
              "\n",
              "    .dataframe thead th {\n",
              "        text-align: right;\n",
              "    }\n",
              "</style>\n",
              "<table border=\"1\" class=\"dataframe\">\n",
              "  <thead>\n",
              "    <tr style=\"text-align: right;\">\n",
              "      <th></th>\n",
              "      <th>app_id</th>\n",
              "      <th>label_id</th>\n",
              "    </tr>\n",
              "  </thead>\n",
              "  <tbody>\n",
              "    <tr>\n",
              "      <th>0</th>\n",
              "      <td>7324884708820027918</td>\n",
              "      <td>251</td>\n",
              "    </tr>\n",
              "    <tr>\n",
              "      <th>1</th>\n",
              "      <td>-4494216993218550286</td>\n",
              "      <td>251</td>\n",
              "    </tr>\n",
              "    <tr>\n",
              "      <th>2</th>\n",
              "      <td>6058196446775239644</td>\n",
              "      <td>406</td>\n",
              "    </tr>\n",
              "    <tr>\n",
              "      <th>3</th>\n",
              "      <td>6058196446775239644</td>\n",
              "      <td>407</td>\n",
              "    </tr>\n",
              "    <tr>\n",
              "      <th>4</th>\n",
              "      <td>8694625920731541625</td>\n",
              "      <td>406</td>\n",
              "    </tr>\n",
              "  </tbody>\n",
              "</table>\n",
              "</div>"
            ],
            "text/plain": [
              "                app_id  label_id\n",
              "0  7324884708820027918       251\n",
              "1 -4494216993218550286       251\n",
              "2  6058196446775239644       406\n",
              "3  6058196446775239644       407\n",
              "4  8694625920731541625       406"
            ]
          },
          "metadata": {
            "tags": []
          },
          "execution_count": 9
        }
      ]
    },
    {
      "cell_type": "markdown",
      "metadata": {
        "id": "1T7h35coZwtB"
      },
      "source": [
        "# **EDA**"
      ]
    },
    {
      "cell_type": "code",
      "metadata": {
        "id": "_t9vQPt3Rp65",
        "colab": {
          "base_uri": "https://localhost:8080/",
          "height": 227
        },
        "outputId": "f6108081-9357-4a59-9176-1cc93ab683f5"
      },
      "source": [
        "#Merging train data and phone database:\n",
        "gender_age_train_v1 = pd.merge(left=gender_age_train, right=phone_brand_device_model, left_on='device_id', right_on='device_id')\n",
        "gender_age_train_v1.head()"
      ],
      "execution_count": null,
      "outputs": [
        {
          "output_type": "execute_result",
          "data": {
            "text/html": [
              "<div>\n",
              "<style scoped>\n",
              "    .dataframe tbody tr th:only-of-type {\n",
              "        vertical-align: middle;\n",
              "    }\n",
              "\n",
              "    .dataframe tbody tr th {\n",
              "        vertical-align: top;\n",
              "    }\n",
              "\n",
              "    .dataframe thead th {\n",
              "        text-align: right;\n",
              "    }\n",
              "</style>\n",
              "<table border=\"1\" class=\"dataframe\">\n",
              "  <thead>\n",
              "    <tr style=\"text-align: right;\">\n",
              "      <th></th>\n",
              "      <th>gender</th>\n",
              "      <th>age</th>\n",
              "      <th>group</th>\n",
              "      <th>phone_brand</th>\n",
              "      <th>device_model</th>\n",
              "    </tr>\n",
              "    <tr>\n",
              "      <th>device_id</th>\n",
              "      <th></th>\n",
              "      <th></th>\n",
              "      <th></th>\n",
              "      <th></th>\n",
              "      <th></th>\n",
              "    </tr>\n",
              "  </thead>\n",
              "  <tbody>\n",
              "    <tr>\n",
              "      <th>-8076087639492063270</th>\n",
              "      <td>M</td>\n",
              "      <td>35</td>\n",
              "      <td>M32-38</td>\n",
              "      <td>Xiaomi</td>\n",
              "      <td>MI 2</td>\n",
              "    </tr>\n",
              "    <tr>\n",
              "      <th>-2897161552818060146</th>\n",
              "      <td>M</td>\n",
              "      <td>35</td>\n",
              "      <td>M32-38</td>\n",
              "      <td>Xiaomi</td>\n",
              "      <td>MI 2</td>\n",
              "    </tr>\n",
              "    <tr>\n",
              "      <th>-8260683887967679142</th>\n",
              "      <td>M</td>\n",
              "      <td>35</td>\n",
              "      <td>M32-38</td>\n",
              "      <td>Xiaomi</td>\n",
              "      <td>MI 2</td>\n",
              "    </tr>\n",
              "    <tr>\n",
              "      <th>-4938849341048082022</th>\n",
              "      <td>M</td>\n",
              "      <td>30</td>\n",
              "      <td>M29-31</td>\n",
              "      <td>Xiaomi</td>\n",
              "      <td>红米note</td>\n",
              "    </tr>\n",
              "    <tr>\n",
              "      <th>245133531816851882</th>\n",
              "      <td>M</td>\n",
              "      <td>30</td>\n",
              "      <td>M29-31</td>\n",
              "      <td>Xiaomi</td>\n",
              "      <td>MI 3</td>\n",
              "    </tr>\n",
              "  </tbody>\n",
              "</table>\n",
              "</div>"
            ],
            "text/plain": [
              "                     gender  age   group phone_brand device_model\n",
              "device_id                                                        \n",
              "-8076087639492063270      M   35  M32-38      Xiaomi         MI 2\n",
              "-2897161552818060146      M   35  M32-38      Xiaomi         MI 2\n",
              "-8260683887967679142      M   35  M32-38      Xiaomi         MI 2\n",
              "-4938849341048082022      M   30  M29-31      Xiaomi       红米note\n",
              " 245133531816851882       M   30  M29-31      Xiaomi         MI 3"
            ]
          },
          "metadata": {
            "tags": []
          },
          "execution_count": 13
        }
      ]
    },
    {
      "cell_type": "code",
      "metadata": {
        "id": "0coFy0nGRp68"
      },
      "source": [
        "#Picking up top ten models and top ten phone brands for EDA purpose .\n",
        "Top_Ten_Brands=gender_age_train_v1['phone_brand'].value_counts()[0:10]\n",
        "Top_Ten_Brands=Top_Ten_Brands.to_dict()\n",
        "\n",
        "Top_Ten_Phone_Models=gender_age_train_v1['device_model'].value_counts()[0:15]\n",
        "Top_Ten_Phone_Models=Top_Ten_Phone_Models.to_dict()"
      ],
      "execution_count": null,
      "outputs": []
    },
    {
      "cell_type": "code",
      "metadata": {
        "colab": {
          "base_uri": "https://localhost:8080/",
          "height": 623
        },
        "id": "lETbrz3kNd-J",
        "outputId": "c8782c47-6a28-4a3d-8bf7-a3de84b96c13"
      },
      "source": [
        "#Boxplot between Phone Brands & Age:\n",
        "gender_mobile_data1=gender_age_train_v1.loc[gender_age_train_v1['phone_brand'].isin(Top_Ten_Brands.keys())]\n",
        "sns.set_style(\"whitegrid\")\n",
        "plt.figure(figsize=(15,10))\n",
        "sns.boxplot(x = 'phone_brand', y = 'age',hue='gender' ,data = gender_mobile_data1)"
      ],
      "execution_count": null,
      "outputs": [
        {
          "output_type": "execute_result",
          "data": {
            "text/plain": [
              "<matplotlib.axes._subplots.AxesSubplot at 0x7f674a0ced90>"
            ]
          },
          "metadata": {
            "tags": []
          },
          "execution_count": 15
        },
        {
          "output_type": "display_data",
          "data": {
            "image/png": "[encoded data removed]",
            "text/plain": [
              "<Figure size 1080x720 with 1 Axes>"
            ]
          },
          "metadata": {
            "tags": []
          }
        }
      ]
    },
    {
      "cell_type": "markdown",
      "metadata": {
        "id": "38IHHiFbLsbw"
      },
      "source": [
        "Observation:\n",
        "\n",
        "Samsung ,Huawei & Lenovo brands are used by old age people\n",
        "Vivo & Meozu are mostly used by Young age people"
      ]
    },
    {
      "cell_type": "code",
      "metadata": {
        "colab": {
          "base_uri": "https://localhost:8080/",
          "height": 622
        },
        "id": "PXjVwWwgVino",
        "outputId": "4d547e28-118d-44cf-b9c8-5b1dc90ab18b"
      },
      "source": [
        "gender_mobile_data2=gender_age_train_v1.loc[gender_age_train_v1['device_model'].isin(Top_Ten_Phone_Models.keys())]\n",
        "sns.set_style(\"whitegrid\")\n",
        "plt.figure(figsize=(15,10))\n",
        "sns.boxplot(x = 'device_model', y = 'age',hue='gender' ,data = gender_mobile_data2)"
      ],
      "execution_count": null,
      "outputs": [
        {
          "output_type": "execute_result",
          "data": {
            "text/plain": [
              "<matplotlib.axes._subplots.AxesSubplot at 0x7f674c521990>"
            ]
          },
          "metadata": {
            "tags": []
          },
          "execution_count": 16
        },
        {
          "output_type": "display_data",
          "data": {
            "image/png": "[encoded data removed]",
            "text/plain": [
              "<Figure size 1080x720 with 1 Axes>"
            ]
          },
          "metadata": {
            "tags": []
          }
        }
      ]
    },
    {
      "cell_type": "markdown",
      "metadata": {
        "id": "ZJKwkIuUSXmI"
      },
      "source": [
        "Observation:\n",
        "\n",
        "Mate7 and Galaxy Note 2  are mostly used Phone Models by old people\n",
        "MI4 ,Redmi Note,MI2s  are mostly used Phone Models by Young people\n"
      ]
    },
    {
      "cell_type": "code",
      "metadata": {
        "id": "mGH-dx3hg1ee",
        "colab": {
          "base_uri": "https://localhost:8080/",
          "height": 214
        },
        "outputId": "29770e38-552f-4f91-ea2f-8e44f758489f"
      },
      "source": [
        "gender_age_train_v1.phik_matrix()"
      ],
      "execution_count": null,
      "outputs": [
        {
          "output_type": "stream",
          "text": [
            "interval columns not set, guessing: ['age']\n"
          ],
          "name": "stdout"
        },
        {
          "output_type": "execute_result",
          "data": {
            "text/html": [
              "<div>\n",
              "<style scoped>\n",
              "    .dataframe tbody tr th:only-of-type {\n",
              "        vertical-align: middle;\n",
              "    }\n",
              "\n",
              "    .dataframe tbody tr th {\n",
              "        vertical-align: top;\n",
              "    }\n",
              "\n",
              "    .dataframe thead th {\n",
              "        text-align: right;\n",
              "    }\n",
              "</style>\n",
              "<table border=\"1\" class=\"dataframe\">\n",
              "  <thead>\n",
              "    <tr style=\"text-align: right;\">\n",
              "      <th></th>\n",
              "      <th>gender</th>\n",
              "      <th>age</th>\n",
              "      <th>group</th>\n",
              "      <th>phone_brand</th>\n",
              "      <th>device_model</th>\n",
              "    </tr>\n",
              "  </thead>\n",
              "  <tbody>\n",
              "    <tr>\n",
              "      <th>gender</th>\n",
              "      <td>1.000000</td>\n",
              "      <td>0.086902</td>\n",
              "      <td>1.000000</td>\n",
              "      <td>0.157178</td>\n",
              "      <td>0.222658</td>\n",
              "    </tr>\n",
              "    <tr>\n",
              "      <th>age</th>\n",
              "      <td>0.086902</td>\n",
              "      <td>1.000000</td>\n",
              "      <td>0.762848</td>\n",
              "      <td>0.198424</td>\n",
              "      <td>0.331543</td>\n",
              "    </tr>\n",
              "    <tr>\n",
              "      <th>group</th>\n",
              "      <td>1.000000</td>\n",
              "      <td>0.762848</td>\n",
              "      <td>1.000000</td>\n",
              "      <td>0.245173</td>\n",
              "      <td>0.356574</td>\n",
              "    </tr>\n",
              "    <tr>\n",
              "      <th>phone_brand</th>\n",
              "      <td>0.157178</td>\n",
              "      <td>0.198424</td>\n",
              "      <td>0.245173</td>\n",
              "      <td>1.000000</td>\n",
              "      <td>0.999958</td>\n",
              "    </tr>\n",
              "    <tr>\n",
              "      <th>device_model</th>\n",
              "      <td>0.222658</td>\n",
              "      <td>0.331543</td>\n",
              "      <td>0.356574</td>\n",
              "      <td>0.999958</td>\n",
              "      <td>1.000000</td>\n",
              "    </tr>\n",
              "  </tbody>\n",
              "</table>\n",
              "</div>"
            ],
            "text/plain": [
              "                gender       age     group  phone_brand  device_model\n",
              "gender        1.000000  0.086902  1.000000     0.157178      0.222658\n",
              "age           0.086902  1.000000  0.762848     0.198424      0.331543\n",
              "group         1.000000  0.762848  1.000000     0.245173      0.356574\n",
              "phone_brand   0.157178  0.198424  0.245173     1.000000      0.999958\n",
              "device_model  0.222658  0.331543  0.356574     0.999958      1.000000"
            ]
          },
          "metadata": {
            "tags": []
          },
          "execution_count": 17
        }
      ]
    },
    {
      "cell_type": "markdown",
      "metadata": {
        "id": "tuls1TesaEYB"
      },
      "source": [
        "Observation:\n",
        "\n",
        "Correlation value between phone_brand & group =0.245\n",
        "\n",
        "Correlation value between device_model & group =0.356\n"
      ]
    },
    {
      "cell_type": "code",
      "metadata": {
        "colab": {
          "base_uri": "https://localhost:8080/",
          "height": 197
        },
        "id": "Qt-djHsiVkSJ",
        "outputId": "8e1c20e9-8a77-44d8-e316-05ca82eb844a"
      },
      "source": [
        "#Merging train data with event database\n",
        "gender_age_train_v2 = pd.merge(left=gender_age_train_v1, right=events_data, left_on='device_id', right_on='device_id')\n",
        "gender_age_train_v2.head()\n"
      ],
      "execution_count": null,
      "outputs": [
        {
          "output_type": "execute_result",
          "data": {
            "text/html": [
              "<div>\n",
              "<style scoped>\n",
              "    .dataframe tbody tr th:only-of-type {\n",
              "        vertical-align: middle;\n",
              "    }\n",
              "\n",
              "    .dataframe tbody tr th {\n",
              "        vertical-align: top;\n",
              "    }\n",
              "\n",
              "    .dataframe thead th {\n",
              "        text-align: right;\n",
              "    }\n",
              "</style>\n",
              "<table border=\"1\" class=\"dataframe\">\n",
              "  <thead>\n",
              "    <tr style=\"text-align: right;\">\n",
              "      <th></th>\n",
              "      <th>device_id</th>\n",
              "      <th>gender</th>\n",
              "      <th>age</th>\n",
              "      <th>group</th>\n",
              "      <th>phone_brand</th>\n",
              "      <th>device_model</th>\n",
              "      <th>timestamp</th>\n",
              "      <th>longitude</th>\n",
              "      <th>latitude</th>\n",
              "      <th>event_id</th>\n",
              "    </tr>\n",
              "  </thead>\n",
              "  <tbody>\n",
              "    <tr>\n",
              "      <th>0</th>\n",
              "      <td>-8260683887967679142</td>\n",
              "      <td>M</td>\n",
              "      <td>35</td>\n",
              "      <td>M32-38</td>\n",
              "      <td>Xiaomi</td>\n",
              "      <td>MI 2</td>\n",
              "      <td>2016-05-01 14:23:37</td>\n",
              "      <td>0.00</td>\n",
              "      <td>0.00</td>\n",
              "      <td>2479656</td>\n",
              "    </tr>\n",
              "    <tr>\n",
              "      <th>1</th>\n",
              "      <td>7477216237379271436</td>\n",
              "      <td>F</td>\n",
              "      <td>37</td>\n",
              "      <td>F33-42</td>\n",
              "      <td>Huawei</td>\n",
              "      <td>荣耀6 plus</td>\n",
              "      <td>2016-05-04 14:10:03</td>\n",
              "      <td>119.57</td>\n",
              "      <td>31.75</td>\n",
              "      <td>280934</td>\n",
              "    </tr>\n",
              "    <tr>\n",
              "      <th>2</th>\n",
              "      <td>7477216237379271436</td>\n",
              "      <td>F</td>\n",
              "      <td>37</td>\n",
              "      <td>F33-42</td>\n",
              "      <td>Huawei</td>\n",
              "      <td>荣耀6 plus</td>\n",
              "      <td>2016-05-04 14:13:30</td>\n",
              "      <td>119.57</td>\n",
              "      <td>31.75</td>\n",
              "      <td>363585</td>\n",
              "    </tr>\n",
              "    <tr>\n",
              "      <th>3</th>\n",
              "      <td>7477216237379271436</td>\n",
              "      <td>F</td>\n",
              "      <td>37</td>\n",
              "      <td>F33-42</td>\n",
              "      <td>Huawei</td>\n",
              "      <td>荣耀6 plus</td>\n",
              "      <td>2016-05-06 18:51:15</td>\n",
              "      <td>0.00</td>\n",
              "      <td>0.00</td>\n",
              "      <td>935225</td>\n",
              "    </tr>\n",
              "    <tr>\n",
              "      <th>4</th>\n",
              "      <td>7477216237379271436</td>\n",
              "      <td>F</td>\n",
              "      <td>37</td>\n",
              "      <td>F33-42</td>\n",
              "      <td>Huawei</td>\n",
              "      <td>荣耀6 plus</td>\n",
              "      <td>2016-05-04 14:09:29</td>\n",
              "      <td>119.57</td>\n",
              "      <td>31.75</td>\n",
              "      <td>1551108</td>\n",
              "    </tr>\n",
              "  </tbody>\n",
              "</table>\n",
              "</div>"
            ],
            "text/plain": [
              "             device_id gender  age  ... longitude latitude event_id\n",
              "0 -8260683887967679142      M   35  ...      0.00     0.00  2479656\n",
              "1  7477216237379271436      F   37  ...    119.57    31.75   280934\n",
              "2  7477216237379271436      F   37  ...    119.57    31.75   363585\n",
              "3  7477216237379271436      F   37  ...      0.00     0.00   935225\n",
              "4  7477216237379271436      F   37  ...    119.57    31.75  1551108\n",
              "\n",
              "[5 rows x 10 columns]"
            ]
          },
          "metadata": {
            "tags": []
          },
          "execution_count": 19
        }
      ]
    },
    {
      "cell_type": "code",
      "metadata": {
        "colab": {
          "base_uri": "https://localhost:8080/"
        },
        "id": "Dcj0rgitVZY3",
        "outputId": "be274446-ad7f-4cfa-9b16-7377e3d72bbb"
      },
      "source": [
        "print('Number of devices with events datat logged:',len(gender_age_train_v2['device_id'].unique()))\n",
        "print('Number of train data devices:',len(gender_age_train))\n",
        "print('Percentage of train data devices have event data logged:',23309/74645)"
      ],
      "execution_count": null,
      "outputs": [
        {
          "output_type": "stream",
          "text": [
            "Number of devices with events datat logged: 23309\n",
            "Number of train data devices: 74645\n",
            "Percentage of train data devices have event data logged: 0.3122647196731194\n"
          ],
          "name": "stdout"
        }
      ]
    },
    {
      "cell_type": "markdown",
      "metadata": {
        "id": "9WFG_dElWZPF"
      },
      "source": [
        "OBSERVATION:\n",
        "\n",
        " Only 31% of devices has the the event data logged so the event and app data features can only be used for training this 31% of data.\n",
        " \n",
        " In this case we can divide the data into data with events and data without events and train individually with different models for better results"
      ]
    },
    {
      "cell_type": "code",
      "metadata": {
        "colab": {
          "base_uri": "https://localhost:8080/",
          "height": 504
        },
        "id": "YhpSLCncWBN7",
        "outputId": "3de72b46-5981-425a-c2f2-4c2f46d78afb"
      },
      "source": [
        "import calendar\n",
        "from matplotlib.pyplot import figure\n",
        "gender_age_train_v2['timestamp']=pd.to_datetime(gender_age_train_v2.timestamp)\n",
        "gender_age_train_v2['Day'] = gender_age_train_v2.timestamp.dt.day_name()\n",
        "figure(figsize=(30, 10), dpi=80)\n",
        "sns.countplot(x=\"Day\",hue=\"group\", data=gender_age_train_v2)"
      ],
      "execution_count": null,
      "outputs": [
        {
          "output_type": "execute_result",
          "data": {
            "text/plain": [
              "<matplotlib.axes._subplots.AxesSubplot at 0x7f675229e190>"
            ]
          },
          "metadata": {
            "tags": []
          },
          "execution_count": 21
        },
        {
          "output_type": "display_data",
          "data": {
            "image/png": "[encoded data removed]",
            "text/plain": [
              "<Figure size 2400x800 with 1 Axes>"
            ]
          },
          "metadata": {
            "tags": []
          }
        }
      ]
    },
    {
      "cell_type": "markdown",
      "metadata": {
        "id": "37QcNwFvW7Bw"
      },
      "source": [
        "Observation:\n",
        "\n",
        "Distribution of Groups across different days is almost uniform but still it can be used as a feature for training"
      ]
    },
    {
      "cell_type": "code",
      "metadata": {
        "colab": {
          "base_uri": "https://localhost:8080/",
          "height": 702
        },
        "id": "lna6yPwBW5yQ",
        "outputId": "75c64dfb-848c-4137-bddf-d1e23956d533"
      },
      "source": [
        "plt.figure()\n",
        "gender_age_train_v2['hours'] = gender_age_train_v2['timestamp'].apply(lambda x: x.hour)\n",
        "figure(figsize=(18, 10), dpi=80)\n",
        "sns.countplot(x='hours',hue='group' ,data=gender_age_train_v2)"
      ],
      "execution_count": null,
      "outputs": [
        {
          "output_type": "execute_result",
          "data": {
            "text/plain": [
              "<matplotlib.axes._subplots.AxesSubplot at 0x7f675266bad0>"
            ]
          },
          "metadata": {
            "tags": []
          },
          "execution_count": 22
        },
        {
          "output_type": "display_data",
          "data": {
            "text/plain": [
              "<Figure size 432x288 with 0 Axes>"
            ]
          },
          "metadata": {
            "tags": []
          }
        },
        {
          "output_type": "display_data",
          "data": {
            "image/png": "[encoded data removed]",
            "text/plain": [
              "<Figure size 1440x800 with 1 Axes>"
            ]
          },
          "metadata": {
            "tags": []
          }
        }
      ]
    },
    {
      "cell_type": "markdown",
      "metadata": {
        "id": "wyKYFqSqYuvR"
      },
      "source": [
        "Observation:\n",
        "\n",
        " Distribution of Groups across the time-hour of the events not well uniform and it can a good feature for training"
      ]
    },
    {
      "cell_type": "code",
      "metadata": {
        "id": "k2-RF5xLMDMy"
      },
      "source": [
        "!pip3 install https://github.com/matplotlib/basemap/archive/master.zip"
      ],
      "execution_count": null,
      "outputs": []
    },
    {
      "cell_type": "code",
      "metadata": {
        "colab": {
          "base_uri": "https://localhost:8080/",
          "height": 347
        },
        "id": "c5lCi27G037B",
        "outputId": "96f04571-5509-49a2-8fb3-5773fd8da24a"
      },
      "source": [
        "#https://www.kaggle.com/beyondbeneath/geolocation-visualisations\n",
        "from mpl_toolkits.basemap import Basemap\n",
        "%matplotlib inline\n",
        "# Set up plot\n",
        "plt.figure(1, figsize=(12,12))\n",
        "\n",
        "# Mercator of World\n",
        "maps = Basemap(projection='merc',\n",
        "             llcrnrlat=-60,\n",
        "             urcrnrlat=65,\n",
        "             llcrnrlon=-180,\n",
        "             urcrnrlon=180,\n",
        "             lat_ts=0,\n",
        "             resolution='c')\n",
        "\n",
        "maps.fillcontinents(color='#191919',lake_color='#000000') # dark grey land, black lakes\n",
        "maps.drawmapboundary(fill_color='#000000')                # black background\n",
        "maps.drawcountries(linewidth=0.1, color=\"w\")              # thin white line for country borders\n",
        "\n",
        "# Plot the data\n",
        "mapping = maps(events_data[\"longitude\"].tolist(), events_data[\"latitude\"].tolist())\n",
        "maps.scatter(mapping[0], mapping[1], s=3, c=\"#1292db\", lw=0, alpha=1, zorder=5)\n",
        "\n",
        "plt.title(\"Global view of events\")\n",
        "plt.show()"
      ],
      "execution_count": null,
      "outputs": [
        {
          "output_type": "display_data",
          "data": {
            "image/png": "[encoded data removed]",
            "text/plain": [
              "<Figure size 864x864 with 1 Axes>"
            ]
          },
          "metadata": {
            "tags": []
          }
        }
      ]
    },
    {
      "cell_type": "code",
      "metadata": {
        "colab": {
          "base_uri": "https://localhost:8080/"
        },
        "id": "oHaiVDagKBbc",
        "outputId": "6e4be7a3-3e4f-47f6-a0fe-ae2611121237"
      },
      "source": [
        "print('Number of 0.00 0.00 locations :',len(events_data.loc[events_data['latitude']==0.00].loc[events_data['longitude']==0.00]))"
      ],
      "execution_count": null,
      "outputs": [
        {
          "output_type": "stream",
          "text": [
            "Number of 0.00 0.00 locations : 968675\n"
          ],
          "name": "stdout"
        }
      ]
    },
    {
      "cell_type": "markdown",
      "metadata": {
        "id": "fFYZ85XkF_eO"
      },
      "source": [
        "Observation:\n",
        "\n",
        "From the Location data we see that events are logged for the location outside the china as well .Some users could have used VPN as well which misinterprets the actual location.There is also a major  outlier with location 0.00 0.000 value."
      ]
    },
    {
      "cell_type": "code",
      "metadata": {
        "colab": {
          "base_uri": "https://localhost:8080/",
          "height": 244
        },
        "id": "4LMbmo98Z56O",
        "outputId": "a458ba42-012c-49ab-c166-b3d173192998"
      },
      "source": [
        "gender_age_train_v2=reduce(gender_age_train_v2)\n",
        "gender_age_train_v2_dropped=gender_age_train_v2.drop(['gender','age','timestamp','event_id','longitude','latitude'],axis=1)\n",
        "gender_age_train_v2_dropped.phik_matrix()"
      ],
      "execution_count": null,
      "outputs": [
        {
          "output_type": "stream",
          "text": [
            "interval columns not set, guessing: ['device_id', 'hours']\n"
          ],
          "name": "stdout"
        },
        {
          "output_type": "execute_result",
          "data": {
            "text/html": [
              "<div>\n",
              "<style scoped>\n",
              "    .dataframe tbody tr th:only-of-type {\n",
              "        vertical-align: middle;\n",
              "    }\n",
              "\n",
              "    .dataframe tbody tr th {\n",
              "        vertical-align: top;\n",
              "    }\n",
              "\n",
              "    .dataframe thead th {\n",
              "        text-align: right;\n",
              "    }\n",
              "</style>\n",
              "<table border=\"1\" class=\"dataframe\">\n",
              "  <thead>\n",
              "    <tr style=\"text-align: right;\">\n",
              "      <th></th>\n",
              "      <th>device_id</th>\n",
              "      <th>group</th>\n",
              "      <th>phone_brand</th>\n",
              "      <th>device_model</th>\n",
              "      <th>Day</th>\n",
              "      <th>hours</th>\n",
              "    </tr>\n",
              "  </thead>\n",
              "  <tbody>\n",
              "    <tr>\n",
              "      <th>device_id</th>\n",
              "      <td>1.000000</td>\n",
              "      <td>0.124884</td>\n",
              "      <td>0.288936</td>\n",
              "      <td>0.692868</td>\n",
              "      <td>0.035137</td>\n",
              "      <td>0.035300</td>\n",
              "    </tr>\n",
              "    <tr>\n",
              "      <th>group</th>\n",
              "      <td>0.124884</td>\n",
              "      <td>1.000000</td>\n",
              "      <td>0.353748</td>\n",
              "      <td>0.734662</td>\n",
              "      <td>0.032951</td>\n",
              "      <td>0.072424</td>\n",
              "    </tr>\n",
              "    <tr>\n",
              "      <th>phone_brand</th>\n",
              "      <td>0.288936</td>\n",
              "      <td>0.353748</td>\n",
              "      <td>1.000000</td>\n",
              "      <td>0.999975</td>\n",
              "      <td>0.076556</td>\n",
              "      <td>0.083840</td>\n",
              "    </tr>\n",
              "    <tr>\n",
              "      <th>device_model</th>\n",
              "      <td>0.692868</td>\n",
              "      <td>0.734662</td>\n",
              "      <td>0.999975</td>\n",
              "      <td>1.000000</td>\n",
              "      <td>0.250803</td>\n",
              "      <td>0.259891</td>\n",
              "    </tr>\n",
              "    <tr>\n",
              "      <th>Day</th>\n",
              "      <td>0.035137</td>\n",
              "      <td>0.032951</td>\n",
              "      <td>0.076556</td>\n",
              "      <td>0.250803</td>\n",
              "      <td>1.000000</td>\n",
              "      <td>0.031595</td>\n",
              "    </tr>\n",
              "    <tr>\n",
              "      <th>hours</th>\n",
              "      <td>0.035300</td>\n",
              "      <td>0.072424</td>\n",
              "      <td>0.083840</td>\n",
              "      <td>0.259891</td>\n",
              "      <td>0.031595</td>\n",
              "      <td>1.000000</td>\n",
              "    </tr>\n",
              "  </tbody>\n",
              "</table>\n",
              "</div>"
            ],
            "text/plain": [
              "              device_id     group  ...       Day     hours\n",
              "device_id      1.000000  0.124884  ...  0.035137  0.035300\n",
              "group          0.124884  1.000000  ...  0.032951  0.072424\n",
              "phone_brand    0.288936  0.353748  ...  0.076556  0.083840\n",
              "device_model   0.692868  0.734662  ...  0.250803  0.259891\n",
              "Day            0.035137  0.032951  ...  1.000000  0.031595\n",
              "hours          0.035300  0.072424  ...  0.031595  1.000000\n",
              "\n",
              "[6 rows x 6 columns]"
            ]
          },
          "metadata": {
            "tags": []
          },
          "execution_count": 23
        }
      ]
    },
    {
      "cell_type": "markdown",
      "metadata": {
        "id": "uicWFGwqzVK7"
      },
      "source": [
        "Observation:\n",
        "\n",
        "The feature day and hour doesn't have more effect on group with corrleation values 0.03 & 0.07 respectively but we can give a try and use them for prediction"
      ]
    },
    {
      "cell_type": "markdown",
      "metadata": {
        "id": "r9eqhCPyY1yH"
      },
      "source": [
        "Overall Observation:\n",
        "\n",
        "In the given training data male users are approximately two times the female users.And only 31% of devices have event data logged .\n",
        "\n",
        "Phone brand and Model can be used for training data with out events data.\n",
        "\n",
        "Event day ,event hour , app & app labels  can be used along with phone brand and phone model for traning data without events."
      ]
    }
  ]
}